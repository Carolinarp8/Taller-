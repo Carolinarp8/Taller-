{
  "nbformat": 4,
  "nbformat_minor": 0,
  "metadata": {
    "colab": {
      "name": "Copia de Taller 1 - Finanzas Computacionales .ipynb",
      "provenance": []
    },
    "kernelspec": {
      "name": "python3",
      "display_name": "Python 3"
    },
    "language_info": {
      "name": "python"
    }
  },
  "cells": [
    {
      "cell_type": "markdown",
      "source": [
        "# Taller 1 \n",
        "Carolina Rincon Paez\n",
        "\n",
        "1. Descargue las series de tiempo de precios (ajustados) mensuales para el periodo Ene-\n",
        "2010 a Dic-2021 de las siguientes 4 acciones: MCD, GE, IBM, T. Con esta información:"
      ],
      "metadata": {
        "id": "K3l4TC_59hON"
      }
    },
    {
      "cell_type": "code",
      "source": [
        "# Se importan las librerías\n",
        "import pandas as pd\n",
        "import numpy as np\n",
        "from scipy import stats\n",
        "from matplotlib import pyplot as plt\n",
        "import seaborn as sbn\n",
        "import warnings\n",
        "warnings.filterwarnings(\"ignore\")"
      ],
      "metadata": {
        "id": "RjS01dA09hZS"
      },
      "execution_count": null,
      "outputs": []
    },
    {
      "cell_type": "code",
      "source": [
        "#Descarga datos del mercado\n",
        "!pip install yfinance\n",
        "import yfinance as yf"
      ],
      "metadata": {
        "colab": {
          "base_uri": "https://localhost:8080/"
        },
        "id": "7vsRz979-BDF",
        "outputId": "4cf9de39-eb73-4440-b36e-acf7e9a18b2b"
      },
      "execution_count": null,
      "outputs": [
        {
          "output_type": "stream",
          "name": "stdout",
          "text": [
            "Looking in indexes: https://pypi.org/simple, https://us-python.pkg.dev/colab-wheels/public/simple/\n",
            "Collecting yfinance\n",
            "  Downloading yfinance-0.1.74-py2.py3-none-any.whl (27 kB)\n",
            "Requirement already satisfied: multitasking>=0.0.7 in /usr/local/lib/python3.7/dist-packages (from yfinance) (0.0.11)\n",
            "Collecting requests>=2.26\n",
            "  Downloading requests-2.28.1-py3-none-any.whl (62 kB)\n",
            "\u001b[K     |████████████████████████████████| 62 kB 1.2 MB/s \n",
            "\u001b[?25hRequirement already satisfied: lxml>=4.5.1 in /usr/local/lib/python3.7/dist-packages (from yfinance) (4.9.1)\n",
            "Requirement already satisfied: pandas>=0.24.0 in /usr/local/lib/python3.7/dist-packages (from yfinance) (1.3.5)\n",
            "Requirement already satisfied: numpy>=1.15 in /usr/local/lib/python3.7/dist-packages (from yfinance) (1.21.6)\n",
            "Requirement already satisfied: python-dateutil>=2.7.3 in /usr/local/lib/python3.7/dist-packages (from pandas>=0.24.0->yfinance) (2.8.2)\n",
            "Requirement already satisfied: pytz>=2017.3 in /usr/local/lib/python3.7/dist-packages (from pandas>=0.24.0->yfinance) (2022.2.1)\n",
            "Requirement already satisfied: six>=1.5 in /usr/local/lib/python3.7/dist-packages (from python-dateutil>=2.7.3->pandas>=0.24.0->yfinance) (1.15.0)\n",
            "Requirement already satisfied: charset-normalizer<3,>=2 in /usr/local/lib/python3.7/dist-packages (from requests>=2.26->yfinance) (2.1.0)\n",
            "Requirement already satisfied: idna<4,>=2.5 in /usr/local/lib/python3.7/dist-packages (from requests>=2.26->yfinance) (2.10)\n",
            "Requirement already satisfied: certifi>=2017.4.17 in /usr/local/lib/python3.7/dist-packages (from requests>=2.26->yfinance) (2022.6.15)\n",
            "Requirement already satisfied: urllib3<1.27,>=1.21.1 in /usr/local/lib/python3.7/dist-packages (from requests>=2.26->yfinance) (1.24.3)\n",
            "Installing collected packages: requests, yfinance\n",
            "  Attempting uninstall: requests\n",
            "    Found existing installation: requests 2.23.0\n",
            "    Uninstalling requests-2.23.0:\n",
            "      Successfully uninstalled requests-2.23.0\n",
            "Successfully installed requests-2.28.1 yfinance-0.1.74\n"
          ]
        }
      ]
    },
    {
      "cell_type": "code",
      "source": [
        "# Precios históricos para los activos seleccionados\n",
        "activos = [\"MCD\", \"GE\", \"IBM\", \"T\"]\n",
        "precios = yf.download(activos,start=\"2010-01-01\",end=\"2021-12-31\", interval=\"1Mo\").dropna()\n",
        "precios = precios.loc[:,\"Adj Close\"]\n",
        "precios#.plot()"
      ],
      "metadata": {
        "colab": {
          "base_uri": "https://localhost:8080/",
          "height": 467
        },
        "id": "vO_9pfTI-Jpn",
        "outputId": "57fe1c77-3b5e-4000-a29d-d7bc8f6c1f04"
      },
      "execution_count": null,
      "outputs": [
        {
          "output_type": "stream",
          "name": "stdout",
          "text": [
            "[*********************100%***********************]  4 of 4 completed\n"
          ]
        },
        {
          "output_type": "execute_result",
          "data": {
            "text/plain": [
              "                    GE         IBM         MCD          T\n",
              "Date                                                     \n",
              "2010-01-01   91.124496   76.034470   43.710953   7.295422\n",
              "2010-02-01   91.011169   78.997833   44.705196   7.279534\n",
              "2010-03-01  103.782242   80.031349   47.111687   7.581747\n",
              "2010-04-01  107.545784   80.499344   49.844330   7.646299\n",
              "2010-05-01   93.232941   78.165527   47.217609   7.283844\n",
              "...                ...         ...         ...        ...\n",
              "2021-08-01  105.016121  126.196465  232.276596  19.121510\n",
              "2021-09-01  102.645004  126.366852  237.139893  18.835596\n",
              "2021-10-01  104.559372  113.787476  241.506790  17.615221\n",
              "2021-11-01   94.708633  111.410393  240.572433  16.332380\n",
              "2021-12-01   94.190178  128.862717  265.117676  17.598621\n",
              "\n",
              "[144 rows x 4 columns]"
            ],
            "text/html": [
              "\n",
              "  <div id=\"df-9e7ca97c-a23e-44ce-8e77-a191860c327c\">\n",
              "    <div class=\"colab-df-container\">\n",
              "      <div>\n",
              "<style scoped>\n",
              "    .dataframe tbody tr th:only-of-type {\n",
              "        vertical-align: middle;\n",
              "    }\n",
              "\n",
              "    .dataframe tbody tr th {\n",
              "        vertical-align: top;\n",
              "    }\n",
              "\n",
              "    .dataframe thead th {\n",
              "        text-align: right;\n",
              "    }\n",
              "</style>\n",
              "<table border=\"1\" class=\"dataframe\">\n",
              "  <thead>\n",
              "    <tr style=\"text-align: right;\">\n",
              "      <th></th>\n",
              "      <th>GE</th>\n",
              "      <th>IBM</th>\n",
              "      <th>MCD</th>\n",
              "      <th>T</th>\n",
              "    </tr>\n",
              "    <tr>\n",
              "      <th>Date</th>\n",
              "      <th></th>\n",
              "      <th></th>\n",
              "      <th></th>\n",
              "      <th></th>\n",
              "    </tr>\n",
              "  </thead>\n",
              "  <tbody>\n",
              "    <tr>\n",
              "      <th>2010-01-01</th>\n",
              "      <td>91.124496</td>\n",
              "      <td>76.034470</td>\n",
              "      <td>43.710953</td>\n",
              "      <td>7.295422</td>\n",
              "    </tr>\n",
              "    <tr>\n",
              "      <th>2010-02-01</th>\n",
              "      <td>91.011169</td>\n",
              "      <td>78.997833</td>\n",
              "      <td>44.705196</td>\n",
              "      <td>7.279534</td>\n",
              "    </tr>\n",
              "    <tr>\n",
              "      <th>2010-03-01</th>\n",
              "      <td>103.782242</td>\n",
              "      <td>80.031349</td>\n",
              "      <td>47.111687</td>\n",
              "      <td>7.581747</td>\n",
              "    </tr>\n",
              "    <tr>\n",
              "      <th>2010-04-01</th>\n",
              "      <td>107.545784</td>\n",
              "      <td>80.499344</td>\n",
              "      <td>49.844330</td>\n",
              "      <td>7.646299</td>\n",
              "    </tr>\n",
              "    <tr>\n",
              "      <th>2010-05-01</th>\n",
              "      <td>93.232941</td>\n",
              "      <td>78.165527</td>\n",
              "      <td>47.217609</td>\n",
              "      <td>7.283844</td>\n",
              "    </tr>\n",
              "    <tr>\n",
              "      <th>...</th>\n",
              "      <td>...</td>\n",
              "      <td>...</td>\n",
              "      <td>...</td>\n",
              "      <td>...</td>\n",
              "    </tr>\n",
              "    <tr>\n",
              "      <th>2021-08-01</th>\n",
              "      <td>105.016121</td>\n",
              "      <td>126.196465</td>\n",
              "      <td>232.276596</td>\n",
              "      <td>19.121510</td>\n",
              "    </tr>\n",
              "    <tr>\n",
              "      <th>2021-09-01</th>\n",
              "      <td>102.645004</td>\n",
              "      <td>126.366852</td>\n",
              "      <td>237.139893</td>\n",
              "      <td>18.835596</td>\n",
              "    </tr>\n",
              "    <tr>\n",
              "      <th>2021-10-01</th>\n",
              "      <td>104.559372</td>\n",
              "      <td>113.787476</td>\n",
              "      <td>241.506790</td>\n",
              "      <td>17.615221</td>\n",
              "    </tr>\n",
              "    <tr>\n",
              "      <th>2021-11-01</th>\n",
              "      <td>94.708633</td>\n",
              "      <td>111.410393</td>\n",
              "      <td>240.572433</td>\n",
              "      <td>16.332380</td>\n",
              "    </tr>\n",
              "    <tr>\n",
              "      <th>2021-12-01</th>\n",
              "      <td>94.190178</td>\n",
              "      <td>128.862717</td>\n",
              "      <td>265.117676</td>\n",
              "      <td>17.598621</td>\n",
              "    </tr>\n",
              "  </tbody>\n",
              "</table>\n",
              "<p>144 rows × 4 columns</p>\n",
              "</div>\n",
              "      <button class=\"colab-df-convert\" onclick=\"convertToInteractive('df-9e7ca97c-a23e-44ce-8e77-a191860c327c')\"\n",
              "              title=\"Convert this dataframe to an interactive table.\"\n",
              "              style=\"display:none;\">\n",
              "        \n",
              "  <svg xmlns=\"http://www.w3.org/2000/svg\" height=\"24px\"viewBox=\"0 0 24 24\"\n",
              "       width=\"24px\">\n",
              "    <path d=\"M0 0h24v24H0V0z\" fill=\"none\"/>\n",
              "    <path d=\"M18.56 5.44l.94 2.06.94-2.06 2.06-.94-2.06-.94-.94-2.06-.94 2.06-2.06.94zm-11 1L8.5 8.5l.94-2.06 2.06-.94-2.06-.94L8.5 2.5l-.94 2.06-2.06.94zm10 10l.94 2.06.94-2.06 2.06-.94-2.06-.94-.94-2.06-.94 2.06-2.06.94z\"/><path d=\"M17.41 7.96l-1.37-1.37c-.4-.4-.92-.59-1.43-.59-.52 0-1.04.2-1.43.59L10.3 9.45l-7.72 7.72c-.78.78-.78 2.05 0 2.83L4 21.41c.39.39.9.59 1.41.59.51 0 1.02-.2 1.41-.59l7.78-7.78 2.81-2.81c.8-.78.8-2.07 0-2.86zM5.41 20L4 18.59l7.72-7.72 1.47 1.35L5.41 20z\"/>\n",
              "  </svg>\n",
              "      </button>\n",
              "      \n",
              "  <style>\n",
              "    .colab-df-container {\n",
              "      display:flex;\n",
              "      flex-wrap:wrap;\n",
              "      gap: 12px;\n",
              "    }\n",
              "\n",
              "    .colab-df-convert {\n",
              "      background-color: #E8F0FE;\n",
              "      border: none;\n",
              "      border-radius: 50%;\n",
              "      cursor: pointer;\n",
              "      display: none;\n",
              "      fill: #1967D2;\n",
              "      height: 32px;\n",
              "      padding: 0 0 0 0;\n",
              "      width: 32px;\n",
              "    }\n",
              "\n",
              "    .colab-df-convert:hover {\n",
              "      background-color: #E2EBFA;\n",
              "      box-shadow: 0px 1px 2px rgba(60, 64, 67, 0.3), 0px 1px 3px 1px rgba(60, 64, 67, 0.15);\n",
              "      fill: #174EA6;\n",
              "    }\n",
              "\n",
              "    [theme=dark] .colab-df-convert {\n",
              "      background-color: #3B4455;\n",
              "      fill: #D2E3FC;\n",
              "    }\n",
              "\n",
              "    [theme=dark] .colab-df-convert:hover {\n",
              "      background-color: #434B5C;\n",
              "      box-shadow: 0px 1px 3px 1px rgba(0, 0, 0, 0.15);\n",
              "      filter: drop-shadow(0px 1px 2px rgba(0, 0, 0, 0.3));\n",
              "      fill: #FFFFFF;\n",
              "    }\n",
              "  </style>\n",
              "\n",
              "      <script>\n",
              "        const buttonEl =\n",
              "          document.querySelector('#df-9e7ca97c-a23e-44ce-8e77-a191860c327c button.colab-df-convert');\n",
              "        buttonEl.style.display =\n",
              "          google.colab.kernel.accessAllowed ? 'block' : 'none';\n",
              "\n",
              "        async function convertToInteractive(key) {\n",
              "          const element = document.querySelector('#df-9e7ca97c-a23e-44ce-8e77-a191860c327c');\n",
              "          const dataTable =\n",
              "            await google.colab.kernel.invokeFunction('convertToInteractive',\n",
              "                                                     [key], {});\n",
              "          if (!dataTable) return;\n",
              "\n",
              "          const docLinkHtml = 'Like what you see? Visit the ' +\n",
              "            '<a target=\"_blank\" href=https://colab.research.google.com/notebooks/data_table.ipynb>data table notebook</a>'\n",
              "            + ' to learn more about interactive tables.';\n",
              "          element.innerHTML = '';\n",
              "          dataTable['output_type'] = 'display_data';\n",
              "          await google.colab.output.renderOutput(dataTable, element);\n",
              "          const docLink = document.createElement('div');\n",
              "          docLink.innerHTML = docLinkHtml;\n",
              "          element.appendChild(docLink);\n",
              "        }\n",
              "      </script>\n",
              "    </div>\n",
              "  </div>\n",
              "  "
            ]
          },
          "metadata": {},
          "execution_count": 5
        }
      ]
    },
    {
      "cell_type": "markdown",
      "source": [
        "a. Calcule los retornos logarítmicos."
      ],
      "metadata": {
        "id": "MLBOUT7e-tSE"
      }
    },
    {
      "cell_type": "code",
      "source": [
        "retornos=np.log(precios/precios.shift()).dropna()\n",
        "retornos"
      ],
      "metadata": {
        "colab": {
          "base_uri": "https://localhost:8080/",
          "height": 450
        },
        "id": "kmHpQ1ke-nGs",
        "outputId": "1a28cfff-8236-49e7-85bd-226a2cfa85b8"
      },
      "execution_count": null,
      "outputs": [
        {
          "output_type": "execute_result",
          "data": {
            "text/plain": [
              "                  GE       IBM       MCD         T\n",
              "Date                                              \n",
              "2010-02-01 -0.001244  0.038234  0.022491 -0.002180\n",
              "2010-03-01  0.131313  0.012998  0.052431  0.040677\n",
              "2010-04-01  0.035622  0.005831  0.056384  0.008478\n",
              "2010-05-01 -0.142816 -0.029420 -0.054138 -0.048563\n",
              "2010-06-01 -0.125612 -0.009200 -0.006700 -0.004537\n",
              "...              ...       ...       ...       ...\n",
              "2021-08-01  0.017320 -0.004408 -0.021868  0.001370\n",
              "2021-09-01 -0.022837  0.001349  0.020721 -0.015065\n",
              "2021-10-01  0.018479 -0.104857  0.018247 -0.066985\n",
              "2021-11-01 -0.098950 -0.021112 -0.003876 -0.075614\n",
              "2021-12-01 -0.005489  0.145527  0.097153  0.074671\n",
              "\n",
              "[143 rows x 4 columns]"
            ],
            "text/html": [
              "\n",
              "  <div id=\"df-df839be6-14a2-40c4-8043-eb38e13507d2\">\n",
              "    <div class=\"colab-df-container\">\n",
              "      <div>\n",
              "<style scoped>\n",
              "    .dataframe tbody tr th:only-of-type {\n",
              "        vertical-align: middle;\n",
              "    }\n",
              "\n",
              "    .dataframe tbody tr th {\n",
              "        vertical-align: top;\n",
              "    }\n",
              "\n",
              "    .dataframe thead th {\n",
              "        text-align: right;\n",
              "    }\n",
              "</style>\n",
              "<table border=\"1\" class=\"dataframe\">\n",
              "  <thead>\n",
              "    <tr style=\"text-align: right;\">\n",
              "      <th></th>\n",
              "      <th>GE</th>\n",
              "      <th>IBM</th>\n",
              "      <th>MCD</th>\n",
              "      <th>T</th>\n",
              "    </tr>\n",
              "    <tr>\n",
              "      <th>Date</th>\n",
              "      <th></th>\n",
              "      <th></th>\n",
              "      <th></th>\n",
              "      <th></th>\n",
              "    </tr>\n",
              "  </thead>\n",
              "  <tbody>\n",
              "    <tr>\n",
              "      <th>2010-02-01</th>\n",
              "      <td>-0.001244</td>\n",
              "      <td>0.038234</td>\n",
              "      <td>0.022491</td>\n",
              "      <td>-0.002180</td>\n",
              "    </tr>\n",
              "    <tr>\n",
              "      <th>2010-03-01</th>\n",
              "      <td>0.131313</td>\n",
              "      <td>0.012998</td>\n",
              "      <td>0.052431</td>\n",
              "      <td>0.040677</td>\n",
              "    </tr>\n",
              "    <tr>\n",
              "      <th>2010-04-01</th>\n",
              "      <td>0.035622</td>\n",
              "      <td>0.005831</td>\n",
              "      <td>0.056384</td>\n",
              "      <td>0.008478</td>\n",
              "    </tr>\n",
              "    <tr>\n",
              "      <th>2010-05-01</th>\n",
              "      <td>-0.142816</td>\n",
              "      <td>-0.029420</td>\n",
              "      <td>-0.054138</td>\n",
              "      <td>-0.048563</td>\n",
              "    </tr>\n",
              "    <tr>\n",
              "      <th>2010-06-01</th>\n",
              "      <td>-0.125612</td>\n",
              "      <td>-0.009200</td>\n",
              "      <td>-0.006700</td>\n",
              "      <td>-0.004537</td>\n",
              "    </tr>\n",
              "    <tr>\n",
              "      <th>...</th>\n",
              "      <td>...</td>\n",
              "      <td>...</td>\n",
              "      <td>...</td>\n",
              "      <td>...</td>\n",
              "    </tr>\n",
              "    <tr>\n",
              "      <th>2021-08-01</th>\n",
              "      <td>0.017320</td>\n",
              "      <td>-0.004408</td>\n",
              "      <td>-0.021868</td>\n",
              "      <td>0.001370</td>\n",
              "    </tr>\n",
              "    <tr>\n",
              "      <th>2021-09-01</th>\n",
              "      <td>-0.022837</td>\n",
              "      <td>0.001349</td>\n",
              "      <td>0.020721</td>\n",
              "      <td>-0.015065</td>\n",
              "    </tr>\n",
              "    <tr>\n",
              "      <th>2021-10-01</th>\n",
              "      <td>0.018479</td>\n",
              "      <td>-0.104857</td>\n",
              "      <td>0.018247</td>\n",
              "      <td>-0.066985</td>\n",
              "    </tr>\n",
              "    <tr>\n",
              "      <th>2021-11-01</th>\n",
              "      <td>-0.098950</td>\n",
              "      <td>-0.021112</td>\n",
              "      <td>-0.003876</td>\n",
              "      <td>-0.075614</td>\n",
              "    </tr>\n",
              "    <tr>\n",
              "      <th>2021-12-01</th>\n",
              "      <td>-0.005489</td>\n",
              "      <td>0.145527</td>\n",
              "      <td>0.097153</td>\n",
              "      <td>0.074671</td>\n",
              "    </tr>\n",
              "  </tbody>\n",
              "</table>\n",
              "<p>143 rows × 4 columns</p>\n",
              "</div>\n",
              "      <button class=\"colab-df-convert\" onclick=\"convertToInteractive('df-df839be6-14a2-40c4-8043-eb38e13507d2')\"\n",
              "              title=\"Convert this dataframe to an interactive table.\"\n",
              "              style=\"display:none;\">\n",
              "        \n",
              "  <svg xmlns=\"http://www.w3.org/2000/svg\" height=\"24px\"viewBox=\"0 0 24 24\"\n",
              "       width=\"24px\">\n",
              "    <path d=\"M0 0h24v24H0V0z\" fill=\"none\"/>\n",
              "    <path d=\"M18.56 5.44l.94 2.06.94-2.06 2.06-.94-2.06-.94-.94-2.06-.94 2.06-2.06.94zm-11 1L8.5 8.5l.94-2.06 2.06-.94-2.06-.94L8.5 2.5l-.94 2.06-2.06.94zm10 10l.94 2.06.94-2.06 2.06-.94-2.06-.94-.94-2.06-.94 2.06-2.06.94z\"/><path d=\"M17.41 7.96l-1.37-1.37c-.4-.4-.92-.59-1.43-.59-.52 0-1.04.2-1.43.59L10.3 9.45l-7.72 7.72c-.78.78-.78 2.05 0 2.83L4 21.41c.39.39.9.59 1.41.59.51 0 1.02-.2 1.41-.59l7.78-7.78 2.81-2.81c.8-.78.8-2.07 0-2.86zM5.41 20L4 18.59l7.72-7.72 1.47 1.35L5.41 20z\"/>\n",
              "  </svg>\n",
              "      </button>\n",
              "      \n",
              "  <style>\n",
              "    .colab-df-container {\n",
              "      display:flex;\n",
              "      flex-wrap:wrap;\n",
              "      gap: 12px;\n",
              "    }\n",
              "\n",
              "    .colab-df-convert {\n",
              "      background-color: #E8F0FE;\n",
              "      border: none;\n",
              "      border-radius: 50%;\n",
              "      cursor: pointer;\n",
              "      display: none;\n",
              "      fill: #1967D2;\n",
              "      height: 32px;\n",
              "      padding: 0 0 0 0;\n",
              "      width: 32px;\n",
              "    }\n",
              "\n",
              "    .colab-df-convert:hover {\n",
              "      background-color: #E2EBFA;\n",
              "      box-shadow: 0px 1px 2px rgba(60, 64, 67, 0.3), 0px 1px 3px 1px rgba(60, 64, 67, 0.15);\n",
              "      fill: #174EA6;\n",
              "    }\n",
              "\n",
              "    [theme=dark] .colab-df-convert {\n",
              "      background-color: #3B4455;\n",
              "      fill: #D2E3FC;\n",
              "    }\n",
              "\n",
              "    [theme=dark] .colab-df-convert:hover {\n",
              "      background-color: #434B5C;\n",
              "      box-shadow: 0px 1px 3px 1px rgba(0, 0, 0, 0.15);\n",
              "      filter: drop-shadow(0px 1px 2px rgba(0, 0, 0, 0.3));\n",
              "      fill: #FFFFFF;\n",
              "    }\n",
              "  </style>\n",
              "\n",
              "      <script>\n",
              "        const buttonEl =\n",
              "          document.querySelector('#df-df839be6-14a2-40c4-8043-eb38e13507d2 button.colab-df-convert');\n",
              "        buttonEl.style.display =\n",
              "          google.colab.kernel.accessAllowed ? 'block' : 'none';\n",
              "\n",
              "        async function convertToInteractive(key) {\n",
              "          const element = document.querySelector('#df-df839be6-14a2-40c4-8043-eb38e13507d2');\n",
              "          const dataTable =\n",
              "            await google.colab.kernel.invokeFunction('convertToInteractive',\n",
              "                                                     [key], {});\n",
              "          if (!dataTable) return;\n",
              "\n",
              "          const docLinkHtml = 'Like what you see? Visit the ' +\n",
              "            '<a target=\"_blank\" href=https://colab.research.google.com/notebooks/data_table.ipynb>data table notebook</a>'\n",
              "            + ' to learn more about interactive tables.';\n",
              "          element.innerHTML = '';\n",
              "          dataTable['output_type'] = 'display_data';\n",
              "          await google.colab.output.renderOutput(dataTable, element);\n",
              "          const docLink = document.createElement('div');\n",
              "          docLink.innerHTML = docLinkHtml;\n",
              "          element.appendChild(docLink);\n",
              "        }\n",
              "      </script>\n",
              "    </div>\n",
              "  </div>\n",
              "  "
            ]
          },
          "metadata": {},
          "execution_count": 6
        }
      ]
    },
    {
      "cell_type": "code",
      "source": [
        "rGE = retornos['GE']\n",
        "rIBM = retornos['IBM']\n",
        "rMCD = retornos['MCD']\n",
        "rT = retornos['T']"
      ],
      "metadata": {
        "id": "JKtQ6TOJOXjx"
      },
      "execution_count": null,
      "outputs": []
    },
    {
      "cell_type": "markdown",
      "source": [
        "b. Calcule las estadísticas descriptivas (media, mediana, desv. estándar, curtosis, simetría) para cada uno de ellos. Presente los estadísticos en una tabla para todos los activos."
      ],
      "metadata": {
        "id": "lkQhlEcZ_EJd"
      }
    },
    {
      "cell_type": "code",
      "source": [
        "#Descripcion Estadistica de los datos\n",
        "datos = pd.DataFrame()\n",
        "#media\n",
        "media = retornos.mean()\n",
        "#meadiana \n",
        "mediana = retornos.median()\n",
        "#desviación estandar\n",
        "desviacion_estandar = retornos.std()\n",
        "#curtosis\n",
        "curtosis = retornos.kurt()\n",
        "#simetria => o tamaño de cola\n",
        "simetria = retornos.skew()\n",
        "\n",
        "datos[\"mean\"]=media\n",
        "datos[\"median\"]=mediana\n",
        "datos[\"desviacion_estandar\"]=desviacion_estandar\n",
        "datos[\"curtosis\"]=curtosis\n",
        "datos[\"simetria\"]=simetria\n",
        "datos"
      ],
      "metadata": {
        "colab": {
          "base_uri": "https://localhost:8080/",
          "height": 173
        },
        "id": "cd13fuoq-4D1",
        "outputId": "65be0ff3-86dd-486e-abc2-b1f6bd0e8972"
      },
      "execution_count": null,
      "outputs": [
        {
          "output_type": "execute_result",
          "data": {
            "text/plain": [
              "         mean    median  desviacion_estandar  curtosis  simetria\n",
              "GE   0.000231 -0.001929             0.086937  3.040759 -0.088296\n",
              "IBM  0.003689  0.002619             0.060536  2.653584 -0.564634\n",
              "MCD  0.012605  0.011742             0.042488  1.596986 -0.410193\n",
              "T    0.006158  0.006484             0.048299  1.549797 -0.707906"
            ],
            "text/html": [
              "\n",
              "  <div id=\"df-036dbd8e-f782-4124-a568-51dbb09d2ff9\">\n",
              "    <div class=\"colab-df-container\">\n",
              "      <div>\n",
              "<style scoped>\n",
              "    .dataframe tbody tr th:only-of-type {\n",
              "        vertical-align: middle;\n",
              "    }\n",
              "\n",
              "    .dataframe tbody tr th {\n",
              "        vertical-align: top;\n",
              "    }\n",
              "\n",
              "    .dataframe thead th {\n",
              "        text-align: right;\n",
              "    }\n",
              "</style>\n",
              "<table border=\"1\" class=\"dataframe\">\n",
              "  <thead>\n",
              "    <tr style=\"text-align: right;\">\n",
              "      <th></th>\n",
              "      <th>mean</th>\n",
              "      <th>median</th>\n",
              "      <th>desviacion_estandar</th>\n",
              "      <th>curtosis</th>\n",
              "      <th>simetria</th>\n",
              "    </tr>\n",
              "  </thead>\n",
              "  <tbody>\n",
              "    <tr>\n",
              "      <th>GE</th>\n",
              "      <td>0.000231</td>\n",
              "      <td>-0.001929</td>\n",
              "      <td>0.086937</td>\n",
              "      <td>3.040759</td>\n",
              "      <td>-0.088296</td>\n",
              "    </tr>\n",
              "    <tr>\n",
              "      <th>IBM</th>\n",
              "      <td>0.003689</td>\n",
              "      <td>0.002619</td>\n",
              "      <td>0.060536</td>\n",
              "      <td>2.653584</td>\n",
              "      <td>-0.564634</td>\n",
              "    </tr>\n",
              "    <tr>\n",
              "      <th>MCD</th>\n",
              "      <td>0.012605</td>\n",
              "      <td>0.011742</td>\n",
              "      <td>0.042488</td>\n",
              "      <td>1.596986</td>\n",
              "      <td>-0.410193</td>\n",
              "    </tr>\n",
              "    <tr>\n",
              "      <th>T</th>\n",
              "      <td>0.006158</td>\n",
              "      <td>0.006484</td>\n",
              "      <td>0.048299</td>\n",
              "      <td>1.549797</td>\n",
              "      <td>-0.707906</td>\n",
              "    </tr>\n",
              "  </tbody>\n",
              "</table>\n",
              "</div>\n",
              "      <button class=\"colab-df-convert\" onclick=\"convertToInteractive('df-036dbd8e-f782-4124-a568-51dbb09d2ff9')\"\n",
              "              title=\"Convert this dataframe to an interactive table.\"\n",
              "              style=\"display:none;\">\n",
              "        \n",
              "  <svg xmlns=\"http://www.w3.org/2000/svg\" height=\"24px\"viewBox=\"0 0 24 24\"\n",
              "       width=\"24px\">\n",
              "    <path d=\"M0 0h24v24H0V0z\" fill=\"none\"/>\n",
              "    <path d=\"M18.56 5.44l.94 2.06.94-2.06 2.06-.94-2.06-.94-.94-2.06-.94 2.06-2.06.94zm-11 1L8.5 8.5l.94-2.06 2.06-.94-2.06-.94L8.5 2.5l-.94 2.06-2.06.94zm10 10l.94 2.06.94-2.06 2.06-.94-2.06-.94-.94-2.06-.94 2.06-2.06.94z\"/><path d=\"M17.41 7.96l-1.37-1.37c-.4-.4-.92-.59-1.43-.59-.52 0-1.04.2-1.43.59L10.3 9.45l-7.72 7.72c-.78.78-.78 2.05 0 2.83L4 21.41c.39.39.9.59 1.41.59.51 0 1.02-.2 1.41-.59l7.78-7.78 2.81-2.81c.8-.78.8-2.07 0-2.86zM5.41 20L4 18.59l7.72-7.72 1.47 1.35L5.41 20z\"/>\n",
              "  </svg>\n",
              "      </button>\n",
              "      \n",
              "  <style>\n",
              "    .colab-df-container {\n",
              "      display:flex;\n",
              "      flex-wrap:wrap;\n",
              "      gap: 12px;\n",
              "    }\n",
              "\n",
              "    .colab-df-convert {\n",
              "      background-color: #E8F0FE;\n",
              "      border: none;\n",
              "      border-radius: 50%;\n",
              "      cursor: pointer;\n",
              "      display: none;\n",
              "      fill: #1967D2;\n",
              "      height: 32px;\n",
              "      padding: 0 0 0 0;\n",
              "      width: 32px;\n",
              "    }\n",
              "\n",
              "    .colab-df-convert:hover {\n",
              "      background-color: #E2EBFA;\n",
              "      box-shadow: 0px 1px 2px rgba(60, 64, 67, 0.3), 0px 1px 3px 1px rgba(60, 64, 67, 0.15);\n",
              "      fill: #174EA6;\n",
              "    }\n",
              "\n",
              "    [theme=dark] .colab-df-convert {\n",
              "      background-color: #3B4455;\n",
              "      fill: #D2E3FC;\n",
              "    }\n",
              "\n",
              "    [theme=dark] .colab-df-convert:hover {\n",
              "      background-color: #434B5C;\n",
              "      box-shadow: 0px 1px 3px 1px rgba(0, 0, 0, 0.15);\n",
              "      filter: drop-shadow(0px 1px 2px rgba(0, 0, 0, 0.3));\n",
              "      fill: #FFFFFF;\n",
              "    }\n",
              "  </style>\n",
              "\n",
              "      <script>\n",
              "        const buttonEl =\n",
              "          document.querySelector('#df-036dbd8e-f782-4124-a568-51dbb09d2ff9 button.colab-df-convert');\n",
              "        buttonEl.style.display =\n",
              "          google.colab.kernel.accessAllowed ? 'block' : 'none';\n",
              "\n",
              "        async function convertToInteractive(key) {\n",
              "          const element = document.querySelector('#df-036dbd8e-f782-4124-a568-51dbb09d2ff9');\n",
              "          const dataTable =\n",
              "            await google.colab.kernel.invokeFunction('convertToInteractive',\n",
              "                                                     [key], {});\n",
              "          if (!dataTable) return;\n",
              "\n",
              "          const docLinkHtml = 'Like what you see? Visit the ' +\n",
              "            '<a target=\"_blank\" href=https://colab.research.google.com/notebooks/data_table.ipynb>data table notebook</a>'\n",
              "            + ' to learn more about interactive tables.';\n",
              "          element.innerHTML = '';\n",
              "          dataTable['output_type'] = 'display_data';\n",
              "          await google.colab.output.renderOutput(dataTable, element);\n",
              "          const docLink = document.createElement('div');\n",
              "          docLink.innerHTML = docLinkHtml;\n",
              "          element.appendChild(docLink);\n",
              "        }\n",
              "      </script>\n",
              "    </div>\n",
              "  </div>\n",
              "  "
            ]
          },
          "metadata": {},
          "execution_count": 8
        }
      ]
    },
    {
      "cell_type": "markdown",
      "source": [
        "c. Presente en un Data Frame los retornos esperados y las volatilidades anualizadas"
      ],
      "metadata": {
        "id": "Li64rDFZ_mIF"
      }
    },
    {
      "cell_type": "code",
      "source": [
        "#media y desviacion \n",
        "mean_GE1, sigma_1GE = retornos[\"GE\"].mean(),retornos['GE'].std() \n",
        "mean_GE1, sigma_1GE"
      ],
      "metadata": {
        "colab": {
          "base_uri": "https://localhost:8080/"
        },
        "id": "d9qFQa8HkIfZ",
        "outputId": "d9b816eb-602e-4bc3-a6c0-e7e7722b1bfb"
      },
      "execution_count": null,
      "outputs": [
        {
          "output_type": "execute_result",
          "data": {
            "text/plain": [
              "(0.0002313933094903802, 0.08693658714896975)"
            ]
          },
          "metadata": {},
          "execution_count": 10
        }
      ]
    },
    {
      "cell_type": "code",
      "source": [
        "mean_GE=mean_GE1*12\n",
        "mean_GE"
      ],
      "metadata": {
        "colab": {
          "base_uri": "https://localhost:8080/"
        },
        "id": "_jU07Ocskgxw",
        "outputId": "42a19de2-ca2c-41ea-94de-f62c25934629"
      },
      "execution_count": null,
      "outputs": [
        {
          "output_type": "execute_result",
          "data": {
            "text/plain": [
              "0.002776719713884562"
            ]
          },
          "metadata": {},
          "execution_count": 11
        }
      ]
    },
    {
      "cell_type": "code",
      "source": [
        "sigma_GE=sigma_1GE*np.sqrt(12)\n",
        "sigma_GE"
      ],
      "metadata": {
        "colab": {
          "base_uri": "https://localhost:8080/"
        },
        "id": "CHO6N-jlkpo8",
        "outputId": "2a772fe0-6fea-4884-fe20-f2d37467b771"
      },
      "execution_count": null,
      "outputs": [
        {
          "output_type": "execute_result",
          "data": {
            "text/plain": [
              "0.30115717195731023"
            ]
          },
          "metadata": {},
          "execution_count": 12
        }
      ]
    },
    {
      "cell_type": "code",
      "source": [
        "#Retornos Esperados y Volatilidades Anualizadas\n",
        "mean_IBM1, sigma_IBM1=retornos['IBM'].mean(),retornos[\"IBM\"].std()\n",
        "mean_IBM1,sigma_IBM1\n",
        "mean_IBM = mean_IBM1*12\n",
        "mean_IBM\n",
        "sigma_IBM = sigma_IBM1*np.sqrt(12)\n",
        "sigma_IBM"
      ],
      "metadata": {
        "colab": {
          "base_uri": "https://localhost:8080/"
        },
        "id": "1Bq7eP4r_60-",
        "outputId": "92a51d81-92ea-4201-9a70-1fb2f8916597"
      },
      "execution_count": null,
      "outputs": [
        {
          "output_type": "execute_result",
          "data": {
            "text/plain": [
              "0.2097033993964569"
            ]
          },
          "metadata": {},
          "execution_count": 13
        }
      ]
    },
    {
      "cell_type": "code",
      "source": [
        "#Retornos Esperados y Volatilidades Anualizadas\n",
        "mean,sigma=retornos['MCD'].mean(),retornos[\"MCD\"].std()\n",
        "mean,sigma\n",
        "mean_MCD = mean*12\n",
        "mean_MCD\n",
        "sigma_MCD = sigma*np.sqrt(12)\n",
        "sigma_MCD"
      ],
      "metadata": {
        "colab": {
          "base_uri": "https://localhost:8080/"
        },
        "id": "hov_gKNr_7Zc",
        "outputId": "07371536-fa3c-4862-98f1-de5b9c1eff3b"
      },
      "execution_count": null,
      "outputs": [
        {
          "output_type": "execute_result",
          "data": {
            "text/plain": [
              "0.1471833539901103"
            ]
          },
          "metadata": {},
          "execution_count": 14
        }
      ]
    },
    {
      "cell_type": "code",
      "source": [
        "#Retornos Esperados y Volatilidades Anualizadas\n",
        "mean,sigma=retornos['T'].mean(),retornos[\"T\"].std()\n",
        "mean,sigma\n",
        "mean_T= mean*12\n",
        "sigma_T=sigma*np.sqrt(12)"
      ],
      "metadata": {
        "id": "j4F83v_m_7jf"
      },
      "execution_count": null,
      "outputs": []
    },
    {
      "cell_type": "code",
      "source": [
        "df= pd.DataFrame({\n",
        "                  'GE': (mean_GE, sigma_GE),\n",
        "                  'IBM': (mean_IBM, sigma_IBM),\n",
        "                  'MCD': (mean_MCD, sigma_MCD),\n",
        "                  'T': (mean_T, sigma_T)}, index=[\"mean\",\"sigma\"])\n",
        "\n",
        "df"
      ],
      "metadata": {
        "id": "_v7YtNGjKXOU",
        "colab": {
          "base_uri": "https://localhost:8080/",
          "height": 111
        },
        "outputId": "83afd173-d0bb-4174-e05d-efe6da5addea"
      },
      "execution_count": null,
      "outputs": [
        {
          "output_type": "execute_result",
          "data": {
            "text/plain": [
              "             GE       IBM       MCD         T\n",
              "mean   0.002777  0.044271  0.151265  0.073894\n",
              "sigma  0.301157  0.209703  0.147183  0.167311"
            ],
            "text/html": [
              "\n",
              "  <div id=\"df-bff39e94-e456-4c35-96d9-2230f3e171b1\">\n",
              "    <div class=\"colab-df-container\">\n",
              "      <div>\n",
              "<style scoped>\n",
              "    .dataframe tbody tr th:only-of-type {\n",
              "        vertical-align: middle;\n",
              "    }\n",
              "\n",
              "    .dataframe tbody tr th {\n",
              "        vertical-align: top;\n",
              "    }\n",
              "\n",
              "    .dataframe thead th {\n",
              "        text-align: right;\n",
              "    }\n",
              "</style>\n",
              "<table border=\"1\" class=\"dataframe\">\n",
              "  <thead>\n",
              "    <tr style=\"text-align: right;\">\n",
              "      <th></th>\n",
              "      <th>GE</th>\n",
              "      <th>IBM</th>\n",
              "      <th>MCD</th>\n",
              "      <th>T</th>\n",
              "    </tr>\n",
              "  </thead>\n",
              "  <tbody>\n",
              "    <tr>\n",
              "      <th>mean</th>\n",
              "      <td>0.002777</td>\n",
              "      <td>0.044271</td>\n",
              "      <td>0.151265</td>\n",
              "      <td>0.073894</td>\n",
              "    </tr>\n",
              "    <tr>\n",
              "      <th>sigma</th>\n",
              "      <td>0.301157</td>\n",
              "      <td>0.209703</td>\n",
              "      <td>0.147183</td>\n",
              "      <td>0.167311</td>\n",
              "    </tr>\n",
              "  </tbody>\n",
              "</table>\n",
              "</div>\n",
              "      <button class=\"colab-df-convert\" onclick=\"convertToInteractive('df-bff39e94-e456-4c35-96d9-2230f3e171b1')\"\n",
              "              title=\"Convert this dataframe to an interactive table.\"\n",
              "              style=\"display:none;\">\n",
              "        \n",
              "  <svg xmlns=\"http://www.w3.org/2000/svg\" height=\"24px\"viewBox=\"0 0 24 24\"\n",
              "       width=\"24px\">\n",
              "    <path d=\"M0 0h24v24H0V0z\" fill=\"none\"/>\n",
              "    <path d=\"M18.56 5.44l.94 2.06.94-2.06 2.06-.94-2.06-.94-.94-2.06-.94 2.06-2.06.94zm-11 1L8.5 8.5l.94-2.06 2.06-.94-2.06-.94L8.5 2.5l-.94 2.06-2.06.94zm10 10l.94 2.06.94-2.06 2.06-.94-2.06-.94-.94-2.06-.94 2.06-2.06.94z\"/><path d=\"M17.41 7.96l-1.37-1.37c-.4-.4-.92-.59-1.43-.59-.52 0-1.04.2-1.43.59L10.3 9.45l-7.72 7.72c-.78.78-.78 2.05 0 2.83L4 21.41c.39.39.9.59 1.41.59.51 0 1.02-.2 1.41-.59l7.78-7.78 2.81-2.81c.8-.78.8-2.07 0-2.86zM5.41 20L4 18.59l7.72-7.72 1.47 1.35L5.41 20z\"/>\n",
              "  </svg>\n",
              "      </button>\n",
              "      \n",
              "  <style>\n",
              "    .colab-df-container {\n",
              "      display:flex;\n",
              "      flex-wrap:wrap;\n",
              "      gap: 12px;\n",
              "    }\n",
              "\n",
              "    .colab-df-convert {\n",
              "      background-color: #E8F0FE;\n",
              "      border: none;\n",
              "      border-radius: 50%;\n",
              "      cursor: pointer;\n",
              "      display: none;\n",
              "      fill: #1967D2;\n",
              "      height: 32px;\n",
              "      padding: 0 0 0 0;\n",
              "      width: 32px;\n",
              "    }\n",
              "\n",
              "    .colab-df-convert:hover {\n",
              "      background-color: #E2EBFA;\n",
              "      box-shadow: 0px 1px 2px rgba(60, 64, 67, 0.3), 0px 1px 3px 1px rgba(60, 64, 67, 0.15);\n",
              "      fill: #174EA6;\n",
              "    }\n",
              "\n",
              "    [theme=dark] .colab-df-convert {\n",
              "      background-color: #3B4455;\n",
              "      fill: #D2E3FC;\n",
              "    }\n",
              "\n",
              "    [theme=dark] .colab-df-convert:hover {\n",
              "      background-color: #434B5C;\n",
              "      box-shadow: 0px 1px 3px 1px rgba(0, 0, 0, 0.15);\n",
              "      filter: drop-shadow(0px 1px 2px rgba(0, 0, 0, 0.3));\n",
              "      fill: #FFFFFF;\n",
              "    }\n",
              "  </style>\n",
              "\n",
              "      <script>\n",
              "        const buttonEl =\n",
              "          document.querySelector('#df-bff39e94-e456-4c35-96d9-2230f3e171b1 button.colab-df-convert');\n",
              "        buttonEl.style.display =\n",
              "          google.colab.kernel.accessAllowed ? 'block' : 'none';\n",
              "\n",
              "        async function convertToInteractive(key) {\n",
              "          const element = document.querySelector('#df-bff39e94-e456-4c35-96d9-2230f3e171b1');\n",
              "          const dataTable =\n",
              "            await google.colab.kernel.invokeFunction('convertToInteractive',\n",
              "                                                     [key], {});\n",
              "          if (!dataTable) return;\n",
              "\n",
              "          const docLinkHtml = 'Like what you see? Visit the ' +\n",
              "            '<a target=\"_blank\" href=https://colab.research.google.com/notebooks/data_table.ipynb>data table notebook</a>'\n",
              "            + ' to learn more about interactive tables.';\n",
              "          element.innerHTML = '';\n",
              "          dataTable['output_type'] = 'display_data';\n",
              "          await google.colab.output.renderOutput(dataTable, element);\n",
              "          const docLink = document.createElement('div');\n",
              "          docLink.innerHTML = docLinkHtml;\n",
              "          element.appendChild(docLink);\n",
              "        }\n",
              "      </script>\n",
              "    </div>\n",
              "  </div>\n",
              "  "
            ]
          },
          "metadata": {},
          "execution_count": 16
        }
      ]
    },
    {
      "cell_type": "markdown",
      "source": [
        "d. Calcule la matriz de correlaciones de Pearson y de Sperman"
      ],
      "metadata": {
        "id": "S6NnqoSVFqGa"
      }
    },
    {
      "cell_type": "code",
      "source": [
        "#Correlaciones de Spearman\n",
        "retornos.corr(method=\"spearman\")"
      ],
      "metadata": {
        "colab": {
          "base_uri": "https://localhost:8080/",
          "height": 173
        },
        "id": "GAfIw6awFrP4",
        "outputId": "f22f56ee-0907-4599-a5fa-1c0a33feda71"
      },
      "execution_count": null,
      "outputs": [
        {
          "output_type": "execute_result",
          "data": {
            "text/plain": [
              "           GE       IBM       MCD         T\n",
              "GE   1.000000  0.343396  0.091615  0.312855\n",
              "IBM  0.343396  1.000000  0.260223  0.358745\n",
              "MCD  0.091615  0.260223  1.000000  0.299497\n",
              "T    0.312855  0.358745  0.299497  1.000000"
            ],
            "text/html": [
              "\n",
              "  <div id=\"df-3e377840-2d5b-4ddf-923a-cfc60eb3b765\">\n",
              "    <div class=\"colab-df-container\">\n",
              "      <div>\n",
              "<style scoped>\n",
              "    .dataframe tbody tr th:only-of-type {\n",
              "        vertical-align: middle;\n",
              "    }\n",
              "\n",
              "    .dataframe tbody tr th {\n",
              "        vertical-align: top;\n",
              "    }\n",
              "\n",
              "    .dataframe thead th {\n",
              "        text-align: right;\n",
              "    }\n",
              "</style>\n",
              "<table border=\"1\" class=\"dataframe\">\n",
              "  <thead>\n",
              "    <tr style=\"text-align: right;\">\n",
              "      <th></th>\n",
              "      <th>GE</th>\n",
              "      <th>IBM</th>\n",
              "      <th>MCD</th>\n",
              "      <th>T</th>\n",
              "    </tr>\n",
              "  </thead>\n",
              "  <tbody>\n",
              "    <tr>\n",
              "      <th>GE</th>\n",
              "      <td>1.000000</td>\n",
              "      <td>0.343396</td>\n",
              "      <td>0.091615</td>\n",
              "      <td>0.312855</td>\n",
              "    </tr>\n",
              "    <tr>\n",
              "      <th>IBM</th>\n",
              "      <td>0.343396</td>\n",
              "      <td>1.000000</td>\n",
              "      <td>0.260223</td>\n",
              "      <td>0.358745</td>\n",
              "    </tr>\n",
              "    <tr>\n",
              "      <th>MCD</th>\n",
              "      <td>0.091615</td>\n",
              "      <td>0.260223</td>\n",
              "      <td>1.000000</td>\n",
              "      <td>0.299497</td>\n",
              "    </tr>\n",
              "    <tr>\n",
              "      <th>T</th>\n",
              "      <td>0.312855</td>\n",
              "      <td>0.358745</td>\n",
              "      <td>0.299497</td>\n",
              "      <td>1.000000</td>\n",
              "    </tr>\n",
              "  </tbody>\n",
              "</table>\n",
              "</div>\n",
              "      <button class=\"colab-df-convert\" onclick=\"convertToInteractive('df-3e377840-2d5b-4ddf-923a-cfc60eb3b765')\"\n",
              "              title=\"Convert this dataframe to an interactive table.\"\n",
              "              style=\"display:none;\">\n",
              "        \n",
              "  <svg xmlns=\"http://www.w3.org/2000/svg\" height=\"24px\"viewBox=\"0 0 24 24\"\n",
              "       width=\"24px\">\n",
              "    <path d=\"M0 0h24v24H0V0z\" fill=\"none\"/>\n",
              "    <path d=\"M18.56 5.44l.94 2.06.94-2.06 2.06-.94-2.06-.94-.94-2.06-.94 2.06-2.06.94zm-11 1L8.5 8.5l.94-2.06 2.06-.94-2.06-.94L8.5 2.5l-.94 2.06-2.06.94zm10 10l.94 2.06.94-2.06 2.06-.94-2.06-.94-.94-2.06-.94 2.06-2.06.94z\"/><path d=\"M17.41 7.96l-1.37-1.37c-.4-.4-.92-.59-1.43-.59-.52 0-1.04.2-1.43.59L10.3 9.45l-7.72 7.72c-.78.78-.78 2.05 0 2.83L4 21.41c.39.39.9.59 1.41.59.51 0 1.02-.2 1.41-.59l7.78-7.78 2.81-2.81c.8-.78.8-2.07 0-2.86zM5.41 20L4 18.59l7.72-7.72 1.47 1.35L5.41 20z\"/>\n",
              "  </svg>\n",
              "      </button>\n",
              "      \n",
              "  <style>\n",
              "    .colab-df-container {\n",
              "      display:flex;\n",
              "      flex-wrap:wrap;\n",
              "      gap: 12px;\n",
              "    }\n",
              "\n",
              "    .colab-df-convert {\n",
              "      background-color: #E8F0FE;\n",
              "      border: none;\n",
              "      border-radius: 50%;\n",
              "      cursor: pointer;\n",
              "      display: none;\n",
              "      fill: #1967D2;\n",
              "      height: 32px;\n",
              "      padding: 0 0 0 0;\n",
              "      width: 32px;\n",
              "    }\n",
              "\n",
              "    .colab-df-convert:hover {\n",
              "      background-color: #E2EBFA;\n",
              "      box-shadow: 0px 1px 2px rgba(60, 64, 67, 0.3), 0px 1px 3px 1px rgba(60, 64, 67, 0.15);\n",
              "      fill: #174EA6;\n",
              "    }\n",
              "\n",
              "    [theme=dark] .colab-df-convert {\n",
              "      background-color: #3B4455;\n",
              "      fill: #D2E3FC;\n",
              "    }\n",
              "\n",
              "    [theme=dark] .colab-df-convert:hover {\n",
              "      background-color: #434B5C;\n",
              "      box-shadow: 0px 1px 3px 1px rgba(0, 0, 0, 0.15);\n",
              "      filter: drop-shadow(0px 1px 2px rgba(0, 0, 0, 0.3));\n",
              "      fill: #FFFFFF;\n",
              "    }\n",
              "  </style>\n",
              "\n",
              "      <script>\n",
              "        const buttonEl =\n",
              "          document.querySelector('#df-3e377840-2d5b-4ddf-923a-cfc60eb3b765 button.colab-df-convert');\n",
              "        buttonEl.style.display =\n",
              "          google.colab.kernel.accessAllowed ? 'block' : 'none';\n",
              "\n",
              "        async function convertToInteractive(key) {\n",
              "          const element = document.querySelector('#df-3e377840-2d5b-4ddf-923a-cfc60eb3b765');\n",
              "          const dataTable =\n",
              "            await google.colab.kernel.invokeFunction('convertToInteractive',\n",
              "                                                     [key], {});\n",
              "          if (!dataTable) return;\n",
              "\n",
              "          const docLinkHtml = 'Like what you see? Visit the ' +\n",
              "            '<a target=\"_blank\" href=https://colab.research.google.com/notebooks/data_table.ipynb>data table notebook</a>'\n",
              "            + ' to learn more about interactive tables.';\n",
              "          element.innerHTML = '';\n",
              "          dataTable['output_type'] = 'display_data';\n",
              "          await google.colab.output.renderOutput(dataTable, element);\n",
              "          const docLink = document.createElement('div');\n",
              "          docLink.innerHTML = docLinkHtml;\n",
              "          element.appendChild(docLink);\n",
              "        }\n",
              "      </script>\n",
              "    </div>\n",
              "  </div>\n",
              "  "
            ]
          },
          "metadata": {},
          "execution_count": 17
        }
      ]
    },
    {
      "cell_type": "code",
      "source": [
        "#Correlaciones de Pearson\n",
        "retornos.corr()"
      ],
      "metadata": {
        "colab": {
          "base_uri": "https://localhost:8080/",
          "height": 173
        },
        "id": "Gx9sayJIH-7w",
        "outputId": "5ea18f15-6376-43a1-ce83-5fc3e5fdf77e"
      },
      "execution_count": null,
      "outputs": [
        {
          "output_type": "execute_result",
          "data": {
            "text/plain": [
              "           GE       IBM       MCD         T\n",
              "GE   1.000000  0.363578  0.151317  0.346994\n",
              "IBM  0.363578  1.000000  0.322563  0.412458\n",
              "MCD  0.151317  0.322563  1.000000  0.338351\n",
              "T    0.346994  0.412458  0.338351  1.000000"
            ],
            "text/html": [
              "\n",
              "  <div id=\"df-0d7f8bb7-51bc-4991-a09e-65f5563e77c8\">\n",
              "    <div class=\"colab-df-container\">\n",
              "      <div>\n",
              "<style scoped>\n",
              "    .dataframe tbody tr th:only-of-type {\n",
              "        vertical-align: middle;\n",
              "    }\n",
              "\n",
              "    .dataframe tbody tr th {\n",
              "        vertical-align: top;\n",
              "    }\n",
              "\n",
              "    .dataframe thead th {\n",
              "        text-align: right;\n",
              "    }\n",
              "</style>\n",
              "<table border=\"1\" class=\"dataframe\">\n",
              "  <thead>\n",
              "    <tr style=\"text-align: right;\">\n",
              "      <th></th>\n",
              "      <th>GE</th>\n",
              "      <th>IBM</th>\n",
              "      <th>MCD</th>\n",
              "      <th>T</th>\n",
              "    </tr>\n",
              "  </thead>\n",
              "  <tbody>\n",
              "    <tr>\n",
              "      <th>GE</th>\n",
              "      <td>1.000000</td>\n",
              "      <td>0.363578</td>\n",
              "      <td>0.151317</td>\n",
              "      <td>0.346994</td>\n",
              "    </tr>\n",
              "    <tr>\n",
              "      <th>IBM</th>\n",
              "      <td>0.363578</td>\n",
              "      <td>1.000000</td>\n",
              "      <td>0.322563</td>\n",
              "      <td>0.412458</td>\n",
              "    </tr>\n",
              "    <tr>\n",
              "      <th>MCD</th>\n",
              "      <td>0.151317</td>\n",
              "      <td>0.322563</td>\n",
              "      <td>1.000000</td>\n",
              "      <td>0.338351</td>\n",
              "    </tr>\n",
              "    <tr>\n",
              "      <th>T</th>\n",
              "      <td>0.346994</td>\n",
              "      <td>0.412458</td>\n",
              "      <td>0.338351</td>\n",
              "      <td>1.000000</td>\n",
              "    </tr>\n",
              "  </tbody>\n",
              "</table>\n",
              "</div>\n",
              "      <button class=\"colab-df-convert\" onclick=\"convertToInteractive('df-0d7f8bb7-51bc-4991-a09e-65f5563e77c8')\"\n",
              "              title=\"Convert this dataframe to an interactive table.\"\n",
              "              style=\"display:none;\">\n",
              "        \n",
              "  <svg xmlns=\"http://www.w3.org/2000/svg\" height=\"24px\"viewBox=\"0 0 24 24\"\n",
              "       width=\"24px\">\n",
              "    <path d=\"M0 0h24v24H0V0z\" fill=\"none\"/>\n",
              "    <path d=\"M18.56 5.44l.94 2.06.94-2.06 2.06-.94-2.06-.94-.94-2.06-.94 2.06-2.06.94zm-11 1L8.5 8.5l.94-2.06 2.06-.94-2.06-.94L8.5 2.5l-.94 2.06-2.06.94zm10 10l.94 2.06.94-2.06 2.06-.94-2.06-.94-.94-2.06-.94 2.06-2.06.94z\"/><path d=\"M17.41 7.96l-1.37-1.37c-.4-.4-.92-.59-1.43-.59-.52 0-1.04.2-1.43.59L10.3 9.45l-7.72 7.72c-.78.78-.78 2.05 0 2.83L4 21.41c.39.39.9.59 1.41.59.51 0 1.02-.2 1.41-.59l7.78-7.78 2.81-2.81c.8-.78.8-2.07 0-2.86zM5.41 20L4 18.59l7.72-7.72 1.47 1.35L5.41 20z\"/>\n",
              "  </svg>\n",
              "      </button>\n",
              "      \n",
              "  <style>\n",
              "    .colab-df-container {\n",
              "      display:flex;\n",
              "      flex-wrap:wrap;\n",
              "      gap: 12px;\n",
              "    }\n",
              "\n",
              "    .colab-df-convert {\n",
              "      background-color: #E8F0FE;\n",
              "      border: none;\n",
              "      border-radius: 50%;\n",
              "      cursor: pointer;\n",
              "      display: none;\n",
              "      fill: #1967D2;\n",
              "      height: 32px;\n",
              "      padding: 0 0 0 0;\n",
              "      width: 32px;\n",
              "    }\n",
              "\n",
              "    .colab-df-convert:hover {\n",
              "      background-color: #E2EBFA;\n",
              "      box-shadow: 0px 1px 2px rgba(60, 64, 67, 0.3), 0px 1px 3px 1px rgba(60, 64, 67, 0.15);\n",
              "      fill: #174EA6;\n",
              "    }\n",
              "\n",
              "    [theme=dark] .colab-df-convert {\n",
              "      background-color: #3B4455;\n",
              "      fill: #D2E3FC;\n",
              "    }\n",
              "\n",
              "    [theme=dark] .colab-df-convert:hover {\n",
              "      background-color: #434B5C;\n",
              "      box-shadow: 0px 1px 3px 1px rgba(0, 0, 0, 0.15);\n",
              "      filter: drop-shadow(0px 1px 2px rgba(0, 0, 0, 0.3));\n",
              "      fill: #FFFFFF;\n",
              "    }\n",
              "  </style>\n",
              "\n",
              "      <script>\n",
              "        const buttonEl =\n",
              "          document.querySelector('#df-0d7f8bb7-51bc-4991-a09e-65f5563e77c8 button.colab-df-convert');\n",
              "        buttonEl.style.display =\n",
              "          google.colab.kernel.accessAllowed ? 'block' : 'none';\n",
              "\n",
              "        async function convertToInteractive(key) {\n",
              "          const element = document.querySelector('#df-0d7f8bb7-51bc-4991-a09e-65f5563e77c8');\n",
              "          const dataTable =\n",
              "            await google.colab.kernel.invokeFunction('convertToInteractive',\n",
              "                                                     [key], {});\n",
              "          if (!dataTable) return;\n",
              "\n",
              "          const docLinkHtml = 'Like what you see? Visit the ' +\n",
              "            '<a target=\"_blank\" href=https://colab.research.google.com/notebooks/data_table.ipynb>data table notebook</a>'\n",
              "            + ' to learn more about interactive tables.';\n",
              "          element.innerHTML = '';\n",
              "          dataTable['output_type'] = 'display_data';\n",
              "          await google.colab.output.renderOutput(dataTable, element);\n",
              "          const docLink = document.createElement('div');\n",
              "          docLink.innerHTML = docLinkHtml;\n",
              "          element.appendChild(docLink);\n",
              "        }\n",
              "      </script>\n",
              "    </div>\n",
              "  </div>\n",
              "  "
            ]
          },
          "metadata": {},
          "execution_count": 18
        }
      ]
    },
    {
      "cell_type": "markdown",
      "source": [
        "e. Grafique el histograma de frecuencia de los retornos para dos de las cuatro acciones."
      ],
      "metadata": {
        "id": "Wmwu9DQ_Jndk"
      }
    },
    {
      "cell_type": "code",
      "source": [
        "sbn.histplot(data=retornos, x=\"GE\", kde=True)"
      ],
      "metadata": {
        "colab": {
          "base_uri": "https://localhost:8080/",
          "height": 296
        },
        "id": "sUS23ylfJhpr",
        "outputId": "ca51d612-3e0e-44a8-bf47-c083df7f4080"
      },
      "execution_count": null,
      "outputs": [
        {
          "output_type": "execute_result",
          "data": {
            "text/plain": [
              "<matplotlib.axes._subplots.AxesSubplot at 0x7f7c01a00610>"
            ]
          },
          "metadata": {},
          "execution_count": 19
        },
        {
          "output_type": "display_data",
          "data": {
            "text/plain": [
              "<Figure size 432x288 with 1 Axes>"
            ],
            "image/png": "[encoded data removed]"
          },
          "metadata": {
            "needs_background": "light"
          }
        }
      ]
    },
    {
      "cell_type": "code",
      "source": [
        "sbn.histplot(data=retornos, x=\"T\", kde=True)"
      ],
      "metadata": {
        "colab": {
          "base_uri": "https://localhost:8080/",
          "height": 296
        },
        "id": "fkOXIPz0Psb3",
        "outputId": "658d2f53-0c38-4e5e-a0da-69b4ffa1f67e"
      },
      "execution_count": null,
      "outputs": [
        {
          "output_type": "execute_result",
          "data": {
            "text/plain": [
              "<matplotlib.axes._subplots.AxesSubplot at 0x7f7c018d1fd0>"
            ]
          },
          "metadata": {},
          "execution_count": 20
        },
        {
          "output_type": "display_data",
          "data": {
            "text/plain": [
              "<Figure size 432x288 with 1 Axes>"
            ],
            "image/png": "[encoded data removed]"
          },
          "metadata": {
            "needs_background": "light"
          }
        }
      ]
    },
    {
      "cell_type": "markdown",
      "source": [
        "f. Implemente las pruebas de normalidad de Kolmogorov-Smirnov para todos los activos.\n",
        "Consolide los resultados en un Data Frame para todos."
      ],
      "metadata": {
        "id": "qTYvApRInCcb"
      }
    },
    {
      "cell_type": "code",
      "source": [
        "# Prueba de Kolmogorov-Smirnov\n",
        "GE=stats.kstest(retornos['GE'],\"norm\")\n",
        "GE"
      ],
      "metadata": {
        "colab": {
          "base_uri": "https://localhost:8080/"
        },
        "id": "KnWkAu39nEB7",
        "outputId": "37d5bf9f-b924-4a6d-bb0c-89e9b294f0d6"
      },
      "execution_count": null,
      "outputs": [
        {
          "output_type": "execute_result",
          "data": {
            "text/plain": [
              "KstestResult(statistic=0.4159825218444625, pvalue=6.374954725860237e-23)"
            ]
          },
          "metadata": {},
          "execution_count": 21
        }
      ]
    },
    {
      "cell_type": "code",
      "source": [
        "# Prueba de Kolmogorov-Smirnov\n",
        "MCD=stats.kstest(retornos['MCD'],\"norm\")\n",
        "MCD"
      ],
      "metadata": {
        "colab": {
          "base_uri": "https://localhost:8080/"
        },
        "id": "5VVPqxhaoljD",
        "outputId": "8e70df81-833e-4f67-c55d-5b11f682cdd9"
      },
      "execution_count": null,
      "outputs": [
        {
          "output_type": "execute_result",
          "data": {
            "text/plain": [
              "KstestResult(statistic=0.4543297711296272, pvalue=1.736416659623002e-27)"
            ]
          },
          "metadata": {},
          "execution_count": 22
        }
      ]
    },
    {
      "cell_type": "code",
      "source": [
        "# Prueba de Kolmogorov-Smirnov\n",
        "IBM=stats.kstest(retornos['IBM'],\"norm\")\n",
        "IBM"
      ],
      "metadata": {
        "colab": {
          "base_uri": "https://localhost:8080/"
        },
        "id": "51coV_e4ol1W",
        "outputId": "917f0bea-9fc1-4ab8-88df-b7cbc6463134"
      },
      "execution_count": null,
      "outputs": [
        {
          "output_type": "execute_result",
          "data": {
            "text/plain": [
              "KstestResult(statistic=0.4372657222198187, pvalue=2.144139226058292e-25)"
            ]
          },
          "metadata": {},
          "execution_count": 23
        }
      ]
    },
    {
      "cell_type": "code",
      "source": [
        "# Prueba de Kolmogorov-Smirnov\n",
        "T=stats.kstest(retornos['T'],\"norm\")\n",
        "T"
      ],
      "metadata": {
        "colab": {
          "base_uri": "https://localhost:8080/"
        },
        "id": "zQY8p_bfomIF",
        "outputId": "cd38f0e1-14ca-463b-d180-44533c843e70"
      },
      "execution_count": null,
      "outputs": [
        {
          "output_type": "execute_result",
          "data": {
            "text/plain": [
              "KstestResult(statistic=0.46069945169330995, pvalue=2.7134528622805504e-28)"
            ]
          },
          "metadata": {},
          "execution_count": 24
        }
      ]
    },
    {
      "cell_type": "code",
      "source": [
        "datos1 = pd.DataFrame({'GE':(GE),\n",
        "                       'MCD':(MCD),\n",
        "                       'IBM':(IBM),\n",
        "                       'T':(T)}, index=[\"statistic\",\"pvalue\"])\n",
        "datos1\n"
      ],
      "metadata": {
        "colab": {
          "base_uri": "https://localhost:8080/",
          "height": 111
        },
        "id": "Ziv1RZT3o33e",
        "outputId": "bcaf79bb-57a1-48a8-da5f-eb7bae021c0b"
      },
      "execution_count": null,
      "outputs": [
        {
          "output_type": "execute_result",
          "data": {
            "text/plain": [
              "                     GE           MCD           IBM             T\n",
              "statistic  4.159825e-01  4.543298e-01  4.372657e-01  4.606995e-01\n",
              "pvalue     6.374955e-23  1.736417e-27  2.144139e-25  2.713453e-28"
            ],
            "text/html": [
              "\n",
              "  <div id=\"df-74fb73ef-a005-4cf0-baa0-e1a2e1651265\">\n",
              "    <div class=\"colab-df-container\">\n",
              "      <div>\n",
              "<style scoped>\n",
              "    .dataframe tbody tr th:only-of-type {\n",
              "        vertical-align: middle;\n",
              "    }\n",
              "\n",
              "    .dataframe tbody tr th {\n",
              "        vertical-align: top;\n",
              "    }\n",
              "\n",
              "    .dataframe thead th {\n",
              "        text-align: right;\n",
              "    }\n",
              "</style>\n",
              "<table border=\"1\" class=\"dataframe\">\n",
              "  <thead>\n",
              "    <tr style=\"text-align: right;\">\n",
              "      <th></th>\n",
              "      <th>GE</th>\n",
              "      <th>MCD</th>\n",
              "      <th>IBM</th>\n",
              "      <th>T</th>\n",
              "    </tr>\n",
              "  </thead>\n",
              "  <tbody>\n",
              "    <tr>\n",
              "      <th>statistic</th>\n",
              "      <td>4.159825e-01</td>\n",
              "      <td>4.543298e-01</td>\n",
              "      <td>4.372657e-01</td>\n",
              "      <td>4.606995e-01</td>\n",
              "    </tr>\n",
              "    <tr>\n",
              "      <th>pvalue</th>\n",
              "      <td>6.374955e-23</td>\n",
              "      <td>1.736417e-27</td>\n",
              "      <td>2.144139e-25</td>\n",
              "      <td>2.713453e-28</td>\n",
              "    </tr>\n",
              "  </tbody>\n",
              "</table>\n",
              "</div>\n",
              "      <button class=\"colab-df-convert\" onclick=\"convertToInteractive('df-74fb73ef-a005-4cf0-baa0-e1a2e1651265')\"\n",
              "              title=\"Convert this dataframe to an interactive table.\"\n",
              "              style=\"display:none;\">\n",
              "        \n",
              "  <svg xmlns=\"http://www.w3.org/2000/svg\" height=\"24px\"viewBox=\"0 0 24 24\"\n",
              "       width=\"24px\">\n",
              "    <path d=\"M0 0h24v24H0V0z\" fill=\"none\"/>\n",
              "    <path d=\"M18.56 5.44l.94 2.06.94-2.06 2.06-.94-2.06-.94-.94-2.06-.94 2.06-2.06.94zm-11 1L8.5 8.5l.94-2.06 2.06-.94-2.06-.94L8.5 2.5l-.94 2.06-2.06.94zm10 10l.94 2.06.94-2.06 2.06-.94-2.06-.94-.94-2.06-.94 2.06-2.06.94z\"/><path d=\"M17.41 7.96l-1.37-1.37c-.4-.4-.92-.59-1.43-.59-.52 0-1.04.2-1.43.59L10.3 9.45l-7.72 7.72c-.78.78-.78 2.05 0 2.83L4 21.41c.39.39.9.59 1.41.59.51 0 1.02-.2 1.41-.59l7.78-7.78 2.81-2.81c.8-.78.8-2.07 0-2.86zM5.41 20L4 18.59l7.72-7.72 1.47 1.35L5.41 20z\"/>\n",
              "  </svg>\n",
              "      </button>\n",
              "      \n",
              "  <style>\n",
              "    .colab-df-container {\n",
              "      display:flex;\n",
              "      flex-wrap:wrap;\n",
              "      gap: 12px;\n",
              "    }\n",
              "\n",
              "    .colab-df-convert {\n",
              "      background-color: #E8F0FE;\n",
              "      border: none;\n",
              "      border-radius: 50%;\n",
              "      cursor: pointer;\n",
              "      display: none;\n",
              "      fill: #1967D2;\n",
              "      height: 32px;\n",
              "      padding: 0 0 0 0;\n",
              "      width: 32px;\n",
              "    }\n",
              "\n",
              "    .colab-df-convert:hover {\n",
              "      background-color: #E2EBFA;\n",
              "      box-shadow: 0px 1px 2px rgba(60, 64, 67, 0.3), 0px 1px 3px 1px rgba(60, 64, 67, 0.15);\n",
              "      fill: #174EA6;\n",
              "    }\n",
              "\n",
              "    [theme=dark] .colab-df-convert {\n",
              "      background-color: #3B4455;\n",
              "      fill: #D2E3FC;\n",
              "    }\n",
              "\n",
              "    [theme=dark] .colab-df-convert:hover {\n",
              "      background-color: #434B5C;\n",
              "      box-shadow: 0px 1px 3px 1px rgba(0, 0, 0, 0.15);\n",
              "      filter: drop-shadow(0px 1px 2px rgba(0, 0, 0, 0.3));\n",
              "      fill: #FFFFFF;\n",
              "    }\n",
              "  </style>\n",
              "\n",
              "      <script>\n",
              "        const buttonEl =\n",
              "          document.querySelector('#df-74fb73ef-a005-4cf0-baa0-e1a2e1651265 button.colab-df-convert');\n",
              "        buttonEl.style.display =\n",
              "          google.colab.kernel.accessAllowed ? 'block' : 'none';\n",
              "\n",
              "        async function convertToInteractive(key) {\n",
              "          const element = document.querySelector('#df-74fb73ef-a005-4cf0-baa0-e1a2e1651265');\n",
              "          const dataTable =\n",
              "            await google.colab.kernel.invokeFunction('convertToInteractive',\n",
              "                                                     [key], {});\n",
              "          if (!dataTable) return;\n",
              "\n",
              "          const docLinkHtml = 'Like what you see? Visit the ' +\n",
              "            '<a target=\"_blank\" href=https://colab.research.google.com/notebooks/data_table.ipynb>data table notebook</a>'\n",
              "            + ' to learn more about interactive tables.';\n",
              "          element.innerHTML = '';\n",
              "          dataTable['output_type'] = 'display_data';\n",
              "          await google.colab.output.renderOutput(dataTable, element);\n",
              "          const docLink = document.createElement('div');\n",
              "          docLink.innerHTML = docLinkHtml;\n",
              "          element.appendChild(docLink);\n",
              "        }\n",
              "      </script>\n",
              "    </div>\n",
              "  </div>\n",
              "  "
            ]
          },
          "metadata": {},
          "execution_count": 25
        }
      ]
    },
    {
      "cell_type": "markdown",
      "source": [
        "2. Con la misma información del punto 1:\n",
        "\n",
        "a. Calcule la volatilidad mensual y anualizada de las series de retornos usando las medidas\n",
        "de: i) desviación estándar, ii) Parkinson, iii) Garman-Klass y, iv) volatilidad ponderada\n",
        "exponencial (EWMA) con una lambda de 0.94. Presente los resultados en un Data Frame"
      ],
      "metadata": {
        "id": "LNM1KCcHiTDt"
      }
    },
    {
      "cell_type": "code",
      "source": [
        "# Precios históricos para los activos seleccionados\n",
        "activos = [\"MCD\", \"GE\", \"IBM\", \"T\"]\n",
        "precios = yf.download(activos,start=\"2010-01-01\",end=\"2021-12-31\", interval=\"1Mo\").dropna()\n",
        "precios = precios.loc[:,\"Adj Close\"]\n"
      ],
      "metadata": {
        "colab": {
          "base_uri": "https://localhost:8080/"
        },
        "id": "TQXuUC7CiX03",
        "outputId": "1d3f1ac2-9200-4902-a177-d8414c62d9cb"
      },
      "execution_count": null,
      "outputs": [
        {
          "output_type": "stream",
          "name": "stdout",
          "text": [
            "[*********************100%***********************]  4 of 4 completed\n"
          ]
        }
      ]
    },
    {
      "cell_type": "code",
      "source": [
        "retornos=np.log(precios/precios.shift()).dropna()\n",
        "retornos"
      ],
      "metadata": {
        "colab": {
          "base_uri": "https://localhost:8080/",
          "height": 450
        },
        "id": "EWgoN86OF7u1",
        "outputId": "911c43fa-2d78-48c3-98d3-ee7534a8db25"
      },
      "execution_count": null,
      "outputs": [
        {
          "output_type": "execute_result",
          "data": {
            "text/plain": [
              "                  GE       IBM       MCD         T\n",
              "Date                                              \n",
              "2010-02-01 -0.001245  0.038233  0.022490 -0.002180\n",
              "2010-03-01  0.131313  0.012998  0.052432  0.040677\n",
              "2010-04-01  0.035622  0.005831  0.056384  0.008478\n",
              "2010-05-01 -0.142815 -0.029421 -0.054138 -0.048563\n",
              "2010-06-01 -0.125612 -0.009200 -0.006701 -0.004537\n",
              "...              ...       ...       ...       ...\n",
              "2021-08-01  0.017320 -0.004408 -0.021868  0.001370\n",
              "2021-09-01 -0.022837  0.001349  0.020721 -0.015065\n",
              "2021-10-01  0.018479 -0.104857  0.018247 -0.066985\n",
              "2021-11-01 -0.098950 -0.021112 -0.003876 -0.075614\n",
              "2021-12-01 -0.005489  0.145527  0.097153  0.074671\n",
              "\n",
              "[143 rows x 4 columns]"
            ],
            "text/html": [
              "\n",
              "  <div id=\"df-194707d7-e9a8-4b04-8c2b-0c5be4aa9522\">\n",
              "    <div class=\"colab-df-container\">\n",
              "      <div>\n",
              "<style scoped>\n",
              "    .dataframe tbody tr th:only-of-type {\n",
              "        vertical-align: middle;\n",
              "    }\n",
              "\n",
              "    .dataframe tbody tr th {\n",
              "        vertical-align: top;\n",
              "    }\n",
              "\n",
              "    .dataframe thead th {\n",
              "        text-align: right;\n",
              "    }\n",
              "</style>\n",
              "<table border=\"1\" class=\"dataframe\">\n",
              "  <thead>\n",
              "    <tr style=\"text-align: right;\">\n",
              "      <th></th>\n",
              "      <th>GE</th>\n",
              "      <th>IBM</th>\n",
              "      <th>MCD</th>\n",
              "      <th>T</th>\n",
              "    </tr>\n",
              "    <tr>\n",
              "      <th>Date</th>\n",
              "      <th></th>\n",
              "      <th></th>\n",
              "      <th></th>\n",
              "      <th></th>\n",
              "    </tr>\n",
              "  </thead>\n",
              "  <tbody>\n",
              "    <tr>\n",
              "      <th>2010-02-01</th>\n",
              "      <td>-0.001245</td>\n",
              "      <td>0.038233</td>\n",
              "      <td>0.022490</td>\n",
              "      <td>-0.002180</td>\n",
              "    </tr>\n",
              "    <tr>\n",
              "      <th>2010-03-01</th>\n",
              "      <td>0.131313</td>\n",
              "      <td>0.012998</td>\n",
              "      <td>0.052432</td>\n",
              "      <td>0.040677</td>\n",
              "    </tr>\n",
              "    <tr>\n",
              "      <th>2010-04-01</th>\n",
              "      <td>0.035622</td>\n",
              "      <td>0.005831</td>\n",
              "      <td>0.056384</td>\n",
              "      <td>0.008478</td>\n",
              "    </tr>\n",
              "    <tr>\n",
              "      <th>2010-05-01</th>\n",
              "      <td>-0.142815</td>\n",
              "      <td>-0.029421</td>\n",
              "      <td>-0.054138</td>\n",
              "      <td>-0.048563</td>\n",
              "    </tr>\n",
              "    <tr>\n",
              "      <th>2010-06-01</th>\n",
              "      <td>-0.125612</td>\n",
              "      <td>-0.009200</td>\n",
              "      <td>-0.006701</td>\n",
              "      <td>-0.004537</td>\n",
              "    </tr>\n",
              "    <tr>\n",
              "      <th>...</th>\n",
              "      <td>...</td>\n",
              "      <td>...</td>\n",
              "      <td>...</td>\n",
              "      <td>...</td>\n",
              "    </tr>\n",
              "    <tr>\n",
              "      <th>2021-08-01</th>\n",
              "      <td>0.017320</td>\n",
              "      <td>-0.004408</td>\n",
              "      <td>-0.021868</td>\n",
              "      <td>0.001370</td>\n",
              "    </tr>\n",
              "    <tr>\n",
              "      <th>2021-09-01</th>\n",
              "      <td>-0.022837</td>\n",
              "      <td>0.001349</td>\n",
              "      <td>0.020721</td>\n",
              "      <td>-0.015065</td>\n",
              "    </tr>\n",
              "    <tr>\n",
              "      <th>2021-10-01</th>\n",
              "      <td>0.018479</td>\n",
              "      <td>-0.104857</td>\n",
              "      <td>0.018247</td>\n",
              "      <td>-0.066985</td>\n",
              "    </tr>\n",
              "    <tr>\n",
              "      <th>2021-11-01</th>\n",
              "      <td>-0.098950</td>\n",
              "      <td>-0.021112</td>\n",
              "      <td>-0.003876</td>\n",
              "      <td>-0.075614</td>\n",
              "    </tr>\n",
              "    <tr>\n",
              "      <th>2021-12-01</th>\n",
              "      <td>-0.005489</td>\n",
              "      <td>0.145527</td>\n",
              "      <td>0.097153</td>\n",
              "      <td>0.074671</td>\n",
              "    </tr>\n",
              "  </tbody>\n",
              "</table>\n",
              "<p>143 rows × 4 columns</p>\n",
              "</div>\n",
              "      <button class=\"colab-df-convert\" onclick=\"convertToInteractive('df-194707d7-e9a8-4b04-8c2b-0c5be4aa9522')\"\n",
              "              title=\"Convert this dataframe to an interactive table.\"\n",
              "              style=\"display:none;\">\n",
              "        \n",
              "  <svg xmlns=\"http://www.w3.org/2000/svg\" height=\"24px\"viewBox=\"0 0 24 24\"\n",
              "       width=\"24px\">\n",
              "    <path d=\"M0 0h24v24H0V0z\" fill=\"none\"/>\n",
              "    <path d=\"M18.56 5.44l.94 2.06.94-2.06 2.06-.94-2.06-.94-.94-2.06-.94 2.06-2.06.94zm-11 1L8.5 8.5l.94-2.06 2.06-.94-2.06-.94L8.5 2.5l-.94 2.06-2.06.94zm10 10l.94 2.06.94-2.06 2.06-.94-2.06-.94-.94-2.06-.94 2.06-2.06.94z\"/><path d=\"M17.41 7.96l-1.37-1.37c-.4-.4-.92-.59-1.43-.59-.52 0-1.04.2-1.43.59L10.3 9.45l-7.72 7.72c-.78.78-.78 2.05 0 2.83L4 21.41c.39.39.9.59 1.41.59.51 0 1.02-.2 1.41-.59l7.78-7.78 2.81-2.81c.8-.78.8-2.07 0-2.86zM5.41 20L4 18.59l7.72-7.72 1.47 1.35L5.41 20z\"/>\n",
              "  </svg>\n",
              "      </button>\n",
              "      \n",
              "  <style>\n",
              "    .colab-df-container {\n",
              "      display:flex;\n",
              "      flex-wrap:wrap;\n",
              "      gap: 12px;\n",
              "    }\n",
              "\n",
              "    .colab-df-convert {\n",
              "      background-color: #E8F0FE;\n",
              "      border: none;\n",
              "      border-radius: 50%;\n",
              "      cursor: pointer;\n",
              "      display: none;\n",
              "      fill: #1967D2;\n",
              "      height: 32px;\n",
              "      padding: 0 0 0 0;\n",
              "      width: 32px;\n",
              "    }\n",
              "\n",
              "    .colab-df-convert:hover {\n",
              "      background-color: #E2EBFA;\n",
              "      box-shadow: 0px 1px 2px rgba(60, 64, 67, 0.3), 0px 1px 3px 1px rgba(60, 64, 67, 0.15);\n",
              "      fill: #174EA6;\n",
              "    }\n",
              "\n",
              "    [theme=dark] .colab-df-convert {\n",
              "      background-color: #3B4455;\n",
              "      fill: #D2E3FC;\n",
              "    }\n",
              "\n",
              "    [theme=dark] .colab-df-convert:hover {\n",
              "      background-color: #434B5C;\n",
              "      box-shadow: 0px 1px 3px 1px rgba(0, 0, 0, 0.15);\n",
              "      filter: drop-shadow(0px 1px 2px rgba(0, 0, 0, 0.3));\n",
              "      fill: #FFFFFF;\n",
              "    }\n",
              "  </style>\n",
              "\n",
              "      <script>\n",
              "        const buttonEl =\n",
              "          document.querySelector('#df-194707d7-e9a8-4b04-8c2b-0c5be4aa9522 button.colab-df-convert');\n",
              "        buttonEl.style.display =\n",
              "          google.colab.kernel.accessAllowed ? 'block' : 'none';\n",
              "\n",
              "        async function convertToInteractive(key) {\n",
              "          const element = document.querySelector('#df-194707d7-e9a8-4b04-8c2b-0c5be4aa9522');\n",
              "          const dataTable =\n",
              "            await google.colab.kernel.invokeFunction('convertToInteractive',\n",
              "                                                     [key], {});\n",
              "          if (!dataTable) return;\n",
              "\n",
              "          const docLinkHtml = 'Like what you see? Visit the ' +\n",
              "            '<a target=\"_blank\" href=https://colab.research.google.com/notebooks/data_table.ipynb>data table notebook</a>'\n",
              "            + ' to learn more about interactive tables.';\n",
              "          element.innerHTML = '';\n",
              "          dataTable['output_type'] = 'display_data';\n",
              "          await google.colab.output.renderOutput(dataTable, element);\n",
              "          const docLink = document.createElement('div');\n",
              "          docLink.innerHTML = docLinkHtml;\n",
              "          element.appendChild(docLink);\n",
              "        }\n",
              "      </script>\n",
              "    </div>\n",
              "  </div>\n",
              "  "
            ]
          },
          "metadata": {},
          "execution_count": 27
        }
      ]
    },
    {
      "cell_type": "markdown",
      "source": [
        "## **i) Desviación Estándar**"
      ],
      "metadata": {
        "id": "9kT65XRP_dDO"
      }
    },
    {
      "cell_type": "code",
      "source": [
        "#medida convencional de volatilidad (Mensual)\n",
        "sigma_d = retornos.std()\n",
        "sigma_d \n"
      ],
      "metadata": {
        "colab": {
          "base_uri": "https://localhost:8080/"
        },
        "id": "86OFGykC1To7",
        "outputId": "9e3e3e2f-92a7-465b-e633-f587690f9a5f"
      },
      "execution_count": null,
      "outputs": [
        {
          "output_type": "execute_result",
          "data": {
            "text/plain": [
              "GE     0.086937\n",
              "IBM    0.060536\n",
              "MCD    0.042488\n",
              "T      0.048299\n",
              "dtype: float64"
            ]
          },
          "metadata": {},
          "execution_count": 28
        }
      ]
    },
    {
      "cell_type": "code",
      "source": [
        "#medida convencional de volatilidad (Anualizada)\n",
        "sigma_h = sigma_d*np.sqrt(12)\n",
        "sigma_h"
      ],
      "metadata": {
        "colab": {
          "base_uri": "https://localhost:8080/"
        },
        "id": "K0k32M7gFJuu",
        "outputId": "be089f9c-83ae-44e9-acaa-28635e2afe92"
      },
      "execution_count": null,
      "outputs": [
        {
          "output_type": "execute_result",
          "data": {
            "text/plain": [
              "GE     0.301157\n",
              "IBM    0.209703\n",
              "MCD    0.147183\n",
              "T      0.167311\n",
              "dtype: float64"
            ]
          },
          "metadata": {},
          "execution_count": 29
        }
      ]
    },
    {
      "cell_type": "markdown",
      "source": [
        "# **ii) Parkinson**"
      ],
      "metadata": {
        "id": "bahTyc2P_Qoh"
      }
    },
    {
      "cell_type": "code",
      "source": [
        "activo = [\"GE\",\"T\",\"IBM\",\"MCD\"]\n",
        "precios = yf.download(activo,start=\"2010-01-01\",end=\"2021-12-31\") \n",
        "precios_adj = precios.loc[:,\"Adj Close\"] #precios de cierre ajustados"
      ],
      "metadata": {
        "colab": {
          "base_uri": "https://localhost:8080/"
        },
        "id": "P_CQYcpWJaGM",
        "outputId": "30990ce6-76a9-4b21-cf20-d204ddec97a5"
      },
      "execution_count": null,
      "outputs": [
        {
          "output_type": "stream",
          "name": "stdout",
          "text": [
            "[*********************100%***********************]  4 of 4 completed\n"
          ]
        }
      ]
    },
    {
      "cell_type": "code",
      "source": [
        "lnHL = np.log(precios[\"High\"]/precios[\"Low\"]).dropna() \n",
        "sigmaPark_d = ((1/(4*np.log(2)))*lnHL-(retornos.mean())**2)**0.5 \n",
        "sigmaPark_d.plot()"
      ],
      "metadata": {
        "colab": {
          "base_uri": "https://localhost:8080/",
          "height": 286
        },
        "id": "YNgQxntNB0LQ",
        "outputId": "fb480a5f-f246-426a-ddfd-63454cbf797a"
      },
      "execution_count": null,
      "outputs": [
        {
          "output_type": "execute_result",
          "data": {
            "text/plain": [
              "<matplotlib.axes._subplots.AxesSubplot at 0x7f7c012e3790>"
            ]
          },
          "metadata": {},
          "execution_count": 31
        },
        {
          "output_type": "display_data",
          "data": {
            "text/plain": [
              "<Figure size 432x288 with 1 Axes>"
            ],
            "image/png": "[encoded data removed]"
          },
          "metadata": {
            "needs_background": "light"
          }
        }
      ]
    },
    {
      "cell_type": "code",
      "source": [
        "from numpy.ma.core import sqrt\n",
        "#anualizamos sigma o medidas cuadraticas como la volatilidad \n",
        "sigma_d*np.sqrt(12)"
      ],
      "metadata": {
        "colab": {
          "base_uri": "https://localhost:8080/"
        },
        "id": "JEad8975HGqy",
        "outputId": "d5266392-c28c-4710-a111-31162e7b14fd"
      },
      "execution_count": null,
      "outputs": [
        {
          "output_type": "execute_result",
          "data": {
            "text/plain": [
              "GE     0.301157\n",
              "IBM    0.209703\n",
              "MCD    0.147183\n",
              "T      0.167311\n",
              "dtype: float64"
            ]
          },
          "metadata": {},
          "execution_count": 32
        }
      ]
    },
    {
      "cell_type": "code",
      "source": [
        "# Volatilidad anualizada de Parkinson\n",
        "#calcula una unica medida de volatilidad. anualiza la media\n",
        "sigmaPark = sigmaPark_d.mean()*np.sqrt(12)\n",
        "sigmaPark"
      ],
      "metadata": {
        "colab": {
          "base_uri": "https://localhost:8080/"
        },
        "id": "oEOTLyFUHd5k",
        "outputId": "6602d394-5f70-43f9-c5c5-d95316e647e0"
      },
      "execution_count": null,
      "outputs": [
        {
          "output_type": "execute_result",
          "data": {
            "text/plain": [
              "GE     0.294920\n",
              "IBM    0.247268\n",
              "MCD    0.229442\n",
              "T      0.243656\n",
              "dtype: float64"
            ]
          },
          "metadata": {},
          "execution_count": 33
        }
      ]
    },
    {
      "cell_type": "markdown",
      "source": [
        "# **iii) Garman-Klass**"
      ],
      "metadata": {
        "id": "89XSu66A_o9H"
      }
    },
    {
      "cell_type": "code",
      "source": [
        "lnHL = np.log(precios[\"High\"]/precios[\"Low\"]).dropna()\n",
        "lnCO = np.log(precios[\"Close\"]/precios[\"Open\"]).dropna()\n",
        "sigmaGK_d = (0.5*lnHL**2-(2*np.log(2)-1)*lnCO**2)**0.5\n",
        "sigmaGK_d.plot()"
      ],
      "metadata": {
        "colab": {
          "base_uri": "https://localhost:8080/",
          "height": 286
        },
        "id": "WMnGYSaFAAn5",
        "outputId": "01c56dd2-8a5e-4d3b-f464-326613c62c2d"
      },
      "execution_count": null,
      "outputs": [
        {
          "output_type": "execute_result",
          "data": {
            "text/plain": [
              "<matplotlib.axes._subplots.AxesSubplot at 0x7f7c01140d90>"
            ]
          },
          "metadata": {},
          "execution_count": 36
        },
        {
          "output_type": "display_data",
          "data": {
            "text/plain": [
              "<Figure size 432x288 with 1 Axes>"
            ],
            "image/png": "[encoded data removed]"
          },
          "metadata": {
            "needs_background": "light"
          }
        }
      ]
    },
    {
      "cell_type": "code",
      "source": [
        "# Volatilidad anulizada de Garman-Klass\n",
        "sigmaGK=sigmaGK_d.mean()*np.sqrt(12)\n",
        "sigmaGK"
      ],
      "metadata": {
        "colab": {
          "base_uri": "https://localhost:8080/"
        },
        "id": "4wmlmawVAAz_",
        "outputId": "2eb1dfae-7e44-4538-a788-2b58efd494b7"
      },
      "execution_count": null,
      "outputs": [
        {
          "output_type": "execute_result",
          "data": {
            "text/plain": [
              "GE     0.047108\n",
              "IBM    0.031917\n",
              "MCD    0.028815\n",
              "T      0.031326\n",
              "dtype: float64"
            ]
          },
          "metadata": {},
          "execution_count": 35
        }
      ]
    },
    {
      "cell_type": "markdown",
      "source": [
        "# **iv) Volatilidad Ponderada Exponencial (EWMA)**"
      ],
      "metadata": {
        "id": "VoTIUHrhABut"
      }
    },
    {
      "cell_type": "code",
      "source": [
        "m = len(retornos)\n",
        "m "
      ],
      "metadata": {
        "colab": {
          "base_uri": "https://localhost:8080/"
        },
        "id": "wV8qCLK-rLWf",
        "outputId": "570f1a6f-c0a1-4f4b-95e6-5e6d325d0423"
      },
      "execution_count": null,
      "outputs": [
        {
          "output_type": "execute_result",
          "data": {
            "text/plain": [
              "143"
            ]
          },
          "metadata": {},
          "execution_count": 45
        }
      ]
    },
    {
      "cell_type": "code",
      "source": [
        "b = np.arange(m-1,-1,-1)\n",
        "b"
      ],
      "metadata": {
        "colab": {
          "base_uri": "https://localhost:8080/"
        },
        "id": "j-8yGXaiNR-Q",
        "outputId": "036ae14e-2ca4-483b-d8a4-c406d917cc74"
      },
      "execution_count": null,
      "outputs": [
        {
          "output_type": "execute_result",
          "data": {
            "text/plain": [
              "array([142, 141, 140, 139, 138, 137, 136, 135, 134, 133, 132, 131, 130,\n",
              "       129, 128, 127, 126, 125, 124, 123, 122, 121, 120, 119, 118, 117,\n",
              "       116, 115, 114, 113, 112, 111, 110, 109, 108, 107, 106, 105, 104,\n",
              "       103, 102, 101, 100,  99,  98,  97,  96,  95,  94,  93,  92,  91,\n",
              "        90,  89,  88,  87,  86,  85,  84,  83,  82,  81,  80,  79,  78,\n",
              "        77,  76,  75,  74,  73,  72,  71,  70,  69,  68,  67,  66,  65,\n",
              "        64,  63,  62,  61,  60,  59,  58,  57,  56,  55,  54,  53,  52,\n",
              "        51,  50,  49,  48,  47,  46,  45,  44,  43,  42,  41,  40,  39,\n",
              "        38,  37,  36,  35,  34,  33,  32,  31,  30,  29,  28,  27,  26,\n",
              "        25,  24,  23,  22,  21,  20,  19,  18,  17,  16,  15,  14,  13,\n",
              "        12,  11,  10,   9,   8,   7,   6,   5,   4,   3,   2,   1,   0])"
            ]
          },
          "metadata": {},
          "execution_count": 46
        }
      ]
    },
    {
      "cell_type": "code",
      "source": [
        "l = np.repeat(0.94,m)\n",
        "l"
      ],
      "metadata": {
        "colab": {
          "base_uri": "https://localhost:8080/"
        },
        "id": "TMbN1fofNH8A",
        "outputId": "35b0f1cc-c35a-4ecc-9bca-251f1a0f669c"
      },
      "execution_count": null,
      "outputs": [
        {
          "output_type": "execute_result",
          "data": {
            "text/plain": [
              "array([0.94, 0.94, 0.94, 0.94, 0.94, 0.94, 0.94, 0.94, 0.94, 0.94, 0.94,\n",
              "       0.94, 0.94, 0.94, 0.94, 0.94, 0.94, 0.94, 0.94, 0.94, 0.94, 0.94,\n",
              "       0.94, 0.94, 0.94, 0.94, 0.94, 0.94, 0.94, 0.94, 0.94, 0.94, 0.94,\n",
              "       0.94, 0.94, 0.94, 0.94, 0.94, 0.94, 0.94, 0.94, 0.94, 0.94, 0.94,\n",
              "       0.94, 0.94, 0.94, 0.94, 0.94, 0.94, 0.94, 0.94, 0.94, 0.94, 0.94,\n",
              "       0.94, 0.94, 0.94, 0.94, 0.94, 0.94, 0.94, 0.94, 0.94, 0.94, 0.94,\n",
              "       0.94, 0.94, 0.94, 0.94, 0.94, 0.94, 0.94, 0.94, 0.94, 0.94, 0.94,\n",
              "       0.94, 0.94, 0.94, 0.94, 0.94, 0.94, 0.94, 0.94, 0.94, 0.94, 0.94,\n",
              "       0.94, 0.94, 0.94, 0.94, 0.94, 0.94, 0.94, 0.94, 0.94, 0.94, 0.94,\n",
              "       0.94, 0.94, 0.94, 0.94, 0.94, 0.94, 0.94, 0.94, 0.94, 0.94, 0.94,\n",
              "       0.94, 0.94, 0.94, 0.94, 0.94, 0.94, 0.94, 0.94, 0.94, 0.94, 0.94,\n",
              "       0.94, 0.94, 0.94, 0.94, 0.94, 0.94, 0.94, 0.94, 0.94, 0.94, 0.94,\n",
              "       0.94, 0.94, 0.94, 0.94, 0.94, 0.94, 0.94, 0.94, 0.94, 0.94, 0.94])"
            ]
          },
          "metadata": {},
          "execution_count": 47
        }
      ]
    },
    {
      "cell_type": "code",
      "source": [
        "# Definir la función\n",
        "def EWMAvol(retornos,Lambda):\n",
        "  m = len(retornos) #1 entrada. cuantos resagos vamos a tener\n",
        "  b = np.arange(m-1,-1,-1) # secuencia decreciente. 2 entrada: lambda. pomdrados (b) secuencia decreciente\n",
        "  l = np.repeat(Lambda,m) #secuencia de lambdas\n",
        "\n",
        "  varewma = ((np.power(retornos,2)*(np.power(l,b))).sum())*(1-Lambda) #serie completa de volatilidades. calcula promedio\n",
        "  EWMAvol = np.sqrt(varewma) #saca raiz cuadrda para obtener volatilidad. varianza mensual \n",
        "  return(EWMAvol)"
      ],
      "metadata": {
        "id": "_JW-mYh7AUs6"
      },
      "execution_count": null,
      "outputs": []
    },
    {
      "cell_type": "code",
      "source": [
        "#mensual por cada acccion \n",
        "varewma_GE = ((np.power(retornos[\"GE\"],2)*(np.power(l,b))))*(1-0.94)\n",
        "varewma_GE.plot()"
      ],
      "metadata": {
        "colab": {
          "base_uri": "https://localhost:8080/",
          "height": 296
        },
        "id": "KRjiA8VYAU66",
        "outputId": "b3c272f1-a11f-4c6c-9b6d-ef7656571a0a"
      },
      "execution_count": null,
      "outputs": [
        {
          "output_type": "execute_result",
          "data": {
            "text/plain": [
              "<matplotlib.axes._subplots.AxesSubplot at 0x7f7c01033f10>"
            ]
          },
          "metadata": {},
          "execution_count": 49
        },
        {
          "output_type": "display_data",
          "data": {
            "text/plain": [
              "<Figure size 432x288 with 1 Axes>"
            ],
            "image/png": "[encoded data removed]"
          },
          "metadata": {
            "needs_background": "light"
          }
        }
      ]
    },
    {
      "cell_type": "code",
      "source": [
        "varewma_T = ((np.power(retornos[\"T\"],2)*(np.power(l,b))))*(1-0.94)\n",
        "varewma_T.plot()"
      ],
      "metadata": {
        "colab": {
          "base_uri": "https://localhost:8080/",
          "height": 296
        },
        "id": "v12H2aKXNkcB",
        "outputId": "49edf51c-5000-4711-ac01-39c80141b903"
      },
      "execution_count": null,
      "outputs": [
        {
          "output_type": "execute_result",
          "data": {
            "text/plain": [
              "<matplotlib.axes._subplots.AxesSubplot at 0x7f7c00fd6750>"
            ]
          },
          "metadata": {},
          "execution_count": 50
        },
        {
          "output_type": "display_data",
          "data": {
            "text/plain": [
              "<Figure size 432x288 with 1 Axes>"
            ],
            "image/png": "[encoded data removed]"
          },
          "metadata": {
            "needs_background": "light"
          }
        }
      ]
    },
    {
      "cell_type": "code",
      "source": [
        "varewma_IBM = ((np.power(retornos[\"IBM\"],2)*(np.power(l,b))))*(1-0.94)\n",
        "varewma_IBM.plot()"
      ],
      "metadata": {
        "colab": {
          "base_uri": "https://localhost:8080/",
          "height": 296
        },
        "id": "HsHOSK0XNkyV",
        "outputId": "3fc255d1-0647-49b8-e942-8be2f04c9753"
      },
      "execution_count": null,
      "outputs": [
        {
          "output_type": "execute_result",
          "data": {
            "text/plain": [
              "<matplotlib.axes._subplots.AxesSubplot at 0x7f7c00f4f510>"
            ]
          },
          "metadata": {},
          "execution_count": 51
        },
        {
          "output_type": "display_data",
          "data": {
            "text/plain": [
              "<Figure size 432x288 with 1 Axes>"
            ],
            "image/png": "[encoded data removed]"
          },
          "metadata": {
            "needs_background": "light"
          }
        }
      ]
    },
    {
      "cell_type": "code",
      "source": [
        "varewma_MCD = ((np.power(retornos[\"MCD\"],2)*(np.power(l,b))))*(1-0.94)\n",
        "varewma_MCD.plot()"
      ],
      "metadata": {
        "colab": {
          "base_uri": "https://localhost:8080/",
          "height": 296
        },
        "id": "j49PqRerNlDV",
        "outputId": "b543656f-c847-45de-cee9-47053d65eb8d"
      },
      "execution_count": null,
      "outputs": [
        {
          "output_type": "execute_result",
          "data": {
            "text/plain": [
              "<matplotlib.axes._subplots.AxesSubplot at 0x7f7c00ec0110>"
            ]
          },
          "metadata": {},
          "execution_count": 52
        },
        {
          "output_type": "display_data",
          "data": {
            "text/plain": [
              "<Figure size 432x288 with 1 Axes>"
            ],
            "image/png": "[encoded data removed]"
          },
          "metadata": {
            "needs_background": "light"
          }
        }
      ]
    },
    {
      "cell_type": "code",
      "source": [
        "Lambda = 0.94\n",
        "#volatilidad anualizada EWMA\n",
        "sigmaewma_GE = EWMAvol(rGE,Lambda)*np.sqrt(12)\n",
        "sigmaewma_GE"
      ],
      "metadata": {
        "colab": {
          "base_uri": "https://localhost:8080/"
        },
        "id": "DpIflmugAVFi",
        "outputId": "948d2d92-c024-409e-cb5b-d8484ca8bc76"
      },
      "execution_count": null,
      "outputs": [
        {
          "output_type": "execute_result",
          "data": {
            "text/plain": [
              "0.3650606545260416"
            ]
          },
          "metadata": {},
          "execution_count": 53
        }
      ]
    },
    {
      "cell_type": "code",
      "source": [
        "Lambda = 0.94\n",
        "#volatilidad anualizada EWMA\n",
        "sigmaewma_T = EWMAvol(rT,Lambda)*np.sqrt(12)\n",
        "sigmaewma_T"
      ],
      "metadata": {
        "colab": {
          "base_uri": "https://localhost:8080/"
        },
        "id": "kgPyzDAgPgId",
        "outputId": "670cac8e-18f7-4e5c-d366-80b754c4af5f"
      },
      "execution_count": null,
      "outputs": [
        {
          "output_type": "execute_result",
          "data": {
            "text/plain": [
              "0.18827757956706864"
            ]
          },
          "metadata": {},
          "execution_count": 54
        }
      ]
    },
    {
      "cell_type": "code",
      "source": [
        "Lambda = 0.94\n",
        "#volatilidad anualizada EWMA\n",
        "sigmaewma_IMB = EWMAvol(rIBM,Lambda)*np.sqrt(12)\n",
        "sigmaewma_IMB\n"
      ],
      "metadata": {
        "colab": {
          "base_uri": "https://localhost:8080/"
        },
        "id": "MzOCP3Y1PmXr",
        "outputId": "4566ef68-0b42-499a-fcf5-c674de728588"
      },
      "execution_count": null,
      "outputs": [
        {
          "output_type": "execute_result",
          "data": {
            "text/plain": [
              "0.25637083380817166"
            ]
          },
          "metadata": {},
          "execution_count": 55
        }
      ]
    },
    {
      "cell_type": "code",
      "source": [
        "Lambda = 0.94\n",
        "#volatilidad anualizada EWMA\n",
        "sigmaewma_MCD = EWMAvol(rMCD,Lambda)*np.sqrt(12)\n",
        "sigmaewma_MCD"
      ],
      "metadata": {
        "colab": {
          "base_uri": "https://localhost:8080/"
        },
        "id": "BEsua6WEP4V7",
        "outputId": "d41170c3-722a-4998-bb5f-bb41092a6c62"
      },
      "execution_count": null,
      "outputs": [
        {
          "output_type": "execute_result",
          "data": {
            "text/plain": [
              "0.18180682109895777"
            ]
          },
          "metadata": {},
          "execution_count": 56
        }
      ]
    },
    {
      "cell_type": "code",
      "source": [
        "#anualizadas\n",
        "df2 = pd.DataFrame({'GE':(sigmaewma_GE,sigmaGK,sigmaPark,sigma_h),\n",
        "                    'IBM':(sigmaewma_IMB,sigmaGK,sigmaPark,sigma_h),\n",
        "                    'MCD':(sigmaewma_MCD,sigmaGK,sigmaPark,sigma_h),\n",
        "                    'T':(sigmaewma_T,sigmaGK,sigmaPark,sigma_h)}, index=[\"EWMA\",\"GK\",\"SigmanPark\",\"Desviacion E.\"])\n",
        "df2"
      ],
      "metadata": {
        "colab": {
          "base_uri": "https://localhost:8080/",
          "height": 268
        },
        "id": "Js8140hoQcV9",
        "outputId": "fbe95895-f708-4b88-be04-98ce5486abc9"
      },
      "execution_count": null,
      "outputs": [
        {
          "output_type": "execute_result",
          "data": {
            "text/plain": [
              "                                                              GE  \\\n",
              "EWMA                                                    0.365061   \n",
              "GK             GE     0.047108\n",
              "IBM    0.031917\n",
              "MCD    0.02881...   \n",
              "SigmanPark     GE     0.294920\n",
              "IBM    0.247268\n",
              "MCD    0.22944...   \n",
              "Desviacion E.  GE     0.301157\n",
              "IBM    0.209703\n",
              "MCD    0.14718...   \n",
              "\n",
              "                                                             IBM  \\\n",
              "EWMA                                                    0.256371   \n",
              "GK             GE     0.047108\n",
              "IBM    0.031917\n",
              "MCD    0.02881...   \n",
              "SigmanPark                                              0.247268   \n",
              "Desviacion E.  GE     0.301157\n",
              "IBM    0.209703\n",
              "MCD    0.14718...   \n",
              "\n",
              "                                                             MCD  \\\n",
              "EWMA                                                    0.181807   \n",
              "GK             GE     0.047108\n",
              "IBM    0.031917\n",
              "MCD    0.02881...   \n",
              "SigmanPark     GE     0.294920\n",
              "IBM    0.247268\n",
              "MCD    0.22944...   \n",
              "Desviacion E.  GE     0.301157\n",
              "IBM    0.209703\n",
              "MCD    0.14718...   \n",
              "\n",
              "                                                               T  \n",
              "EWMA                                                    0.188278  \n",
              "GK             GE     0.047108\n",
              "IBM    0.031917\n",
              "MCD    0.02881...  \n",
              "SigmanPark     GE     0.294920\n",
              "IBM    0.247268\n",
              "MCD    0.22944...  \n",
              "Desviacion E.  GE     0.301157\n",
              "IBM    0.209703\n",
              "MCD    0.14718...  "
            ],
            "text/html": [
              "\n",
              "  <div id=\"df-b50e74ce-d3c0-42bc-83a1-ae6484b0e228\">\n",
              "    <div class=\"colab-df-container\">\n",
              "      <div>\n",
              "<style scoped>\n",
              "    .dataframe tbody tr th:only-of-type {\n",
              "        vertical-align: middle;\n",
              "    }\n",
              "\n",
              "    .dataframe tbody tr th {\n",
              "        vertical-align: top;\n",
              "    }\n",
              "\n",
              "    .dataframe thead th {\n",
              "        text-align: right;\n",
              "    }\n",
              "</style>\n",
              "<table border=\"1\" class=\"dataframe\">\n",
              "  <thead>\n",
              "    <tr style=\"text-align: right;\">\n",
              "      <th></th>\n",
              "      <th>GE</th>\n",
              "      <th>IBM</th>\n",
              "      <th>MCD</th>\n",
              "      <th>T</th>\n",
              "    </tr>\n",
              "  </thead>\n",
              "  <tbody>\n",
              "    <tr>\n",
              "      <th>EWMA</th>\n",
              "      <td>0.365061</td>\n",
              "      <td>0.256371</td>\n",
              "      <td>0.181807</td>\n",
              "      <td>0.188278</td>\n",
              "    </tr>\n",
              "    <tr>\n",
              "      <th>GK</th>\n",
              "      <td>GE     0.047108\n",
              "IBM    0.031917\n",
              "MCD    0.02881...</td>\n",
              "      <td>GE     0.047108\n",
              "IBM    0.031917\n",
              "MCD    0.02881...</td>\n",
              "      <td>GE     0.047108\n",
              "IBM    0.031917\n",
              "MCD    0.02881...</td>\n",
              "      <td>GE     0.047108\n",
              "IBM    0.031917\n",
              "MCD    0.02881...</td>\n",
              "    </tr>\n",
              "    <tr>\n",
              "      <th>SigmanPark</th>\n",
              "      <td>GE     0.294920\n",
              "IBM    0.247268\n",
              "MCD    0.22944...</td>\n",
              "      <td>0.247268</td>\n",
              "      <td>GE     0.294920\n",
              "IBM    0.247268\n",
              "MCD    0.22944...</td>\n",
              "      <td>GE     0.294920\n",
              "IBM    0.247268\n",
              "MCD    0.22944...</td>\n",
              "    </tr>\n",
              "    <tr>\n",
              "      <th>Desviacion E.</th>\n",
              "      <td>GE     0.301157\n",
              "IBM    0.209703\n",
              "MCD    0.14718...</td>\n",
              "      <td>GE     0.301157\n",
              "IBM    0.209703\n",
              "MCD    0.14718...</td>\n",
              "      <td>GE     0.301157\n",
              "IBM    0.209703\n",
              "MCD    0.14718...</td>\n",
              "      <td>GE     0.301157\n",
              "IBM    0.209703\n",
              "MCD    0.14718...</td>\n",
              "    </tr>\n",
              "  </tbody>\n",
              "</table>\n",
              "</div>\n",
              "      <button class=\"colab-df-convert\" onclick=\"convertToInteractive('df-b50e74ce-d3c0-42bc-83a1-ae6484b0e228')\"\n",
              "              title=\"Convert this dataframe to an interactive table.\"\n",
              "              style=\"display:none;\">\n",
              "        \n",
              "  <svg xmlns=\"http://www.w3.org/2000/svg\" height=\"24px\"viewBox=\"0 0 24 24\"\n",
              "       width=\"24px\">\n",
              "    <path d=\"M0 0h24v24H0V0z\" fill=\"none\"/>\n",
              "    <path d=\"M18.56 5.44l.94 2.06.94-2.06 2.06-.94-2.06-.94-.94-2.06-.94 2.06-2.06.94zm-11 1L8.5 8.5l.94-2.06 2.06-.94-2.06-.94L8.5 2.5l-.94 2.06-2.06.94zm10 10l.94 2.06.94-2.06 2.06-.94-2.06-.94-.94-2.06-.94 2.06-2.06.94z\"/><path d=\"M17.41 7.96l-1.37-1.37c-.4-.4-.92-.59-1.43-.59-.52 0-1.04.2-1.43.59L10.3 9.45l-7.72 7.72c-.78.78-.78 2.05 0 2.83L4 21.41c.39.39.9.59 1.41.59.51 0 1.02-.2 1.41-.59l7.78-7.78 2.81-2.81c.8-.78.8-2.07 0-2.86zM5.41 20L4 18.59l7.72-7.72 1.47 1.35L5.41 20z\"/>\n",
              "  </svg>\n",
              "      </button>\n",
              "      \n",
              "  <style>\n",
              "    .colab-df-container {\n",
              "      display:flex;\n",
              "      flex-wrap:wrap;\n",
              "      gap: 12px;\n",
              "    }\n",
              "\n",
              "    .colab-df-convert {\n",
              "      background-color: #E8F0FE;\n",
              "      border: none;\n",
              "      border-radius: 50%;\n",
              "      cursor: pointer;\n",
              "      display: none;\n",
              "      fill: #1967D2;\n",
              "      height: 32px;\n",
              "      padding: 0 0 0 0;\n",
              "      width: 32px;\n",
              "    }\n",
              "\n",
              "    .colab-df-convert:hover {\n",
              "      background-color: #E2EBFA;\n",
              "      box-shadow: 0px 1px 2px rgba(60, 64, 67, 0.3), 0px 1px 3px 1px rgba(60, 64, 67, 0.15);\n",
              "      fill: #174EA6;\n",
              "    }\n",
              "\n",
              "    [theme=dark] .colab-df-convert {\n",
              "      background-color: #3B4455;\n",
              "      fill: #D2E3FC;\n",
              "    }\n",
              "\n",
              "    [theme=dark] .colab-df-convert:hover {\n",
              "      background-color: #434B5C;\n",
              "      box-shadow: 0px 1px 3px 1px rgba(0, 0, 0, 0.15);\n",
              "      filter: drop-shadow(0px 1px 2px rgba(0, 0, 0, 0.3));\n",
              "      fill: #FFFFFF;\n",
              "    }\n",
              "  </style>\n",
              "\n",
              "      <script>\n",
              "        const buttonEl =\n",
              "          document.querySelector('#df-b50e74ce-d3c0-42bc-83a1-ae6484b0e228 button.colab-df-convert');\n",
              "        buttonEl.style.display =\n",
              "          google.colab.kernel.accessAllowed ? 'block' : 'none';\n",
              "\n",
              "        async function convertToInteractive(key) {\n",
              "          const element = document.querySelector('#df-b50e74ce-d3c0-42bc-83a1-ae6484b0e228');\n",
              "          const dataTable =\n",
              "            await google.colab.kernel.invokeFunction('convertToInteractive',\n",
              "                                                     [key], {});\n",
              "          if (!dataTable) return;\n",
              "\n",
              "          const docLinkHtml = 'Like what you see? Visit the ' +\n",
              "            '<a target=\"_blank\" href=https://colab.research.google.com/notebooks/data_table.ipynb>data table notebook</a>'\n",
              "            + ' to learn more about interactive tables.';\n",
              "          element.innerHTML = '';\n",
              "          dataTable['output_type'] = 'display_data';\n",
              "          await google.colab.output.renderOutput(dataTable, element);\n",
              "          const docLink = document.createElement('div');\n",
              "          docLink.innerHTML = docLinkHtml;\n",
              "          element.appendChild(docLink);\n",
              "        }\n",
              "      </script>\n",
              "    </div>\n",
              "  </div>\n",
              "  "
            ]
          },
          "metadata": {},
          "execution_count": 66
        }
      ]
    },
    {
      "cell_type": "markdown",
      "source": [
        "b. Para un solo activo de su elección, presente las gráficas para las últimas tres medidas\n",
        "de volatilidad."
      ],
      "metadata": {
        "id": "JPqWVUt5vsIL"
      }
    },
    {
      "cell_type": "code",
      "source": [
        "activo = [\"T\"]\n",
        "precios = yf.download(activo,start=\"2010-01-01\",end=\"2021-12-31\", interval=\"1Mo\").dropna() \n"
      ],
      "metadata": {
        "colab": {
          "base_uri": "https://localhost:8080/"
        },
        "id": "qUJ0DnHDAXPU",
        "outputId": "15db2330-4c5d-4c5c-ea97-edf89b66a12b"
      },
      "execution_count": null,
      "outputs": [
        {
          "output_type": "stream",
          "name": "stdout",
          "text": [
            "\r[*********************100%***********************]  1 of 1 completed\n"
          ]
        }
      ]
    },
    {
      "cell_type": "code",
      "source": [
        "#parkinson\n",
        "lnHL = np.log(precios[\"High\"]/precios[\"Low\"]).dropna() #calcula seudoretorno\n",
        "sigmaPark_S = ((1/(4*np.log(2)))*lnHL-(rT.mean())**2)**0.5\n",
        "sigmaPark_S.plot()"
      ],
      "metadata": {
        "colab": {
          "base_uri": "https://localhost:8080/",
          "height": 296
        },
        "id": "o7XrlvbBpin1",
        "outputId": "57385277-bd21-499b-9c50-4ceff98a3ef7"
      },
      "execution_count": null,
      "outputs": [
        {
          "output_type": "execute_result",
          "data": {
            "text/plain": [
              "<matplotlib.axes._subplots.AxesSubplot at 0x7f7c002e7690>"
            ]
          },
          "metadata": {},
          "execution_count": 62
        },
        {
          "output_type": "display_data",
          "data": {
            "text/plain": [
              "<Figure size 432x288 with 1 Axes>"
            ],
            "image/png": "[encoded data removed]"
          },
          "metadata": {
            "needs_background": "light"
          }
        }
      ]
    },
    {
      "cell_type": "code",
      "source": [
        "#Garman-klass\n",
        "lnHL = np.log(precios[\"High\"]/precios[\"Low\"]).dropna() #calculo de 1 seudo retorno\n",
        "lnCO = np.log(precios[\"Close\"]/precios[\"Open\"]).dropna() #calculo de 2 seudo retorno\n",
        "sigmaGK_y = (0.5*lnHL**2-(2*np.log(2)-1)*lnCO**2)**0.5\n",
        "sigmaGK_y.plot()"
      ],
      "metadata": {
        "colab": {
          "base_uri": "https://localhost:8080/",
          "height": 297
        },
        "id": "L8mTdTx7sfHt",
        "outputId": "a5fb7d6a-8add-4fdb-fdf5-dc1ed6bc38c5"
      },
      "execution_count": null,
      "outputs": [
        {
          "output_type": "execute_result",
          "data": {
            "text/plain": [
              "<matplotlib.axes._subplots.AxesSubplot at 0x7f7c00266f90>"
            ]
          },
          "metadata": {},
          "execution_count": 64
        },
        {
          "output_type": "display_data",
          "data": {
            "text/plain": [
              "<Figure size 432x288 with 1 Axes>"
            ],
            "image/png": "[encoded data removed]"
          },
          "metadata": {
            "needs_background": "light"
          }
        }
      ]
    },
    {
      "cell_type": "code",
      "source": [
        "#EWMA\n",
        "varewma_T = ((np.power(retornos[\"T\"],2)*(np.power(l,b))))*(1-0.94)\n",
        "varewma_T.plot()"
      ],
      "metadata": {
        "colab": {
          "base_uri": "https://localhost:8080/",
          "height": 296
        },
        "id": "HeKYad0BRqYg",
        "outputId": "6f364750-db27-4f2b-c368-321f0822ac5a"
      },
      "execution_count": null,
      "outputs": [
        {
          "output_type": "execute_result",
          "data": {
            "text/plain": [
              "<matplotlib.axes._subplots.AxesSubplot at 0x7f5fe41710d0>"
            ]
          },
          "metadata": {},
          "execution_count": 135
        },
        {
          "output_type": "display_data",
          "data": {
            "text/plain": [
              "<Figure size 432x288 with 1 Axes>"
            ],
            "image/png": "[encoded data removed]"
          },
          "metadata": {
            "needs_background": "light"
          }
        }
      ]
    },
    {
      "cell_type": "code",
      "source": [],
      "metadata": {
        "id": "LJbFbcu6SUUL"
      },
      "execution_count": null,
      "outputs": []
    }
  ]
}